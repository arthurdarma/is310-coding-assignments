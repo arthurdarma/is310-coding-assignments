{
 "cells": [
  {
   "cell_type": "code",
   "execution_count": 260,
   "metadata": {},
   "outputs": [
    {
     "data": {
      "text/html": [
       "<div>\n",
       "<style scoped>\n",
       "    .dataframe tbody tr th:only-of-type {\n",
       "        vertical-align: middle;\n",
       "    }\n",
       "\n",
       "    .dataframe tbody tr th {\n",
       "        vertical-align: top;\n",
       "    }\n",
       "\n",
       "    .dataframe thead th {\n",
       "        text-align: right;\n",
       "    }\n",
       "</style>\n",
       "<table border=\"1\" class=\"dataframe\">\n",
       "  <thead>\n",
       "    <tr style=\"text-align: right;\">\n",
       "      <th></th>\n",
       "      <th>imdb_id</th>\n",
       "      <th>script_id</th>\n",
       "      <th>title</th>\n",
       "      <th>year</th>\n",
       "      <th>gross (inflation-adjusted)</th>\n",
       "      <th>link</th>\n",
       "    </tr>\n",
       "  </thead>\n",
       "  <tbody>\n",
       "    <tr>\n",
       "      <th>0</th>\n",
       "      <td>tt0023622</td>\n",
       "      <td>5154</td>\n",
       "      <td>Trouble in Paradise</td>\n",
       "      <td>1932</td>\n",
       "      <td>NaN</td>\n",
       "      <td>http://www.aellea.com/emruf3/tip.html</td>\n",
       "    </tr>\n",
       "    <tr>\n",
       "      <th>1</th>\n",
       "      <td>tt0024368</td>\n",
       "      <td>4677</td>\n",
       "      <td>Mystery of the Wax Museum</td>\n",
       "      <td>1933</td>\n",
       "      <td>NaN</td>\n",
       "      <td>http://www.aellea.com/script/qWAX.htm</td>\n",
       "    </tr>\n",
       "    <tr>\n",
       "      <th>2</th>\n",
       "      <td>tt0025905</td>\n",
       "      <td>5147</td>\n",
       "      <td>Transatlantic Merry-Go-Round</td>\n",
       "      <td>1934</td>\n",
       "      <td>NaN</td>\n",
       "      <td>http://www.aellea.com/emruf3/tm.html</td>\n",
       "    </tr>\n",
       "    <tr>\n",
       "      <th>3</th>\n",
       "      <td>tt0031679</td>\n",
       "      <td>4658</td>\n",
       "      <td>Mr. Smith Goes to Washington</td>\n",
       "      <td>1939</td>\n",
       "      <td>NaN</td>\n",
       "      <td>http://www.dailyscript.com/scripts/Mr%20Smith%...</td>\n",
       "    </tr>\n",
       "    <tr>\n",
       "      <th>4</th>\n",
       "      <td>tt0031725</td>\n",
       "      <td>3016</td>\n",
       "      <td>Ninotchka</td>\n",
       "      <td>1939</td>\n",
       "      <td>45.0</td>\n",
       "      <td>http://www.dailyscript.com/scripts/Ninotchka.txt</td>\n",
       "    </tr>\n",
       "    <tr>\n",
       "      <th>...</th>\n",
       "      <td>...</td>\n",
       "      <td>...</td>\n",
       "      <td>...</td>\n",
       "      <td>...</td>\n",
       "      <td>...</td>\n",
       "      <td>...</td>\n",
       "    </tr>\n",
       "    <tr>\n",
       "      <th>119</th>\n",
       "      <td>tt0366627</td>\n",
       "      <td>2651</td>\n",
       "      <td>The Jacket</td>\n",
       "      <td>2005</td>\n",
       "      <td>8.0</td>\n",
       "      <td>http://www.dailyscript.com/scripts/The_Jacket....</td>\n",
       "    </tr>\n",
       "    <tr>\n",
       "      <th>120</th>\n",
       "      <td>tt0372532</td>\n",
       "      <td>4992</td>\n",
       "      <td>The Wedding Date</td>\n",
       "      <td>2005</td>\n",
       "      <td>42.0</td>\n",
       "      <td>http://www.dailyscript.com/scripts/somethingbo...</td>\n",
       "    </tr>\n",
       "    <tr>\n",
       "      <th>121</th>\n",
       "      <td>tt0416658</td>\n",
       "      <td>4034</td>\n",
       "      <td>Crazylove</td>\n",
       "      <td>2005</td>\n",
       "      <td>NaN</td>\n",
       "      <td>http://www.dailyscript.com/scripts/crazy_love....</td>\n",
       "    </tr>\n",
       "    <tr>\n",
       "      <th>122</th>\n",
       "      <td>tt0421054</td>\n",
       "      <td>4121</td>\n",
       "      <td>Domino</td>\n",
       "      <td>2005</td>\n",
       "      <td>13.0</td>\n",
       "      <td>http://www.dailyscript.com/scripts/domino.html</td>\n",
       "    </tr>\n",
       "    <tr>\n",
       "      <th>123</th>\n",
       "      <td>tt0480249</td>\n",
       "      <td>4392</td>\n",
       "      <td>I Am Legend</td>\n",
       "      <td>2007</td>\n",
       "      <td>323.0</td>\n",
       "      <td>http://www.horrorlair.com/scripts/legend.txt</td>\n",
       "    </tr>\n",
       "  </tbody>\n",
       "</table>\n",
       "<p>124 rows × 6 columns</p>\n",
       "</div>"
      ],
      "text/plain": [
       "       imdb_id  script_id                         title  year  \\\n",
       "0    tt0023622       5154           Trouble in Paradise  1932   \n",
       "1    tt0024368       4677     Mystery of the Wax Museum  1933   \n",
       "2    tt0025905       5147  Transatlantic Merry-Go-Round  1934   \n",
       "3    tt0031679       4658  Mr. Smith Goes to Washington  1939   \n",
       "4    tt0031725       3016                     Ninotchka  1939   \n",
       "..         ...        ...                           ...   ...   \n",
       "119  tt0366627       2651                    The Jacket  2005   \n",
       "120  tt0372532       4992              The Wedding Date  2005   \n",
       "121  tt0416658       4034                     Crazylove  2005   \n",
       "122  tt0421054       4121                        Domino  2005   \n",
       "123  tt0480249       4392                   I Am Legend  2007   \n",
       "\n",
       "     gross (inflation-adjusted)  \\\n",
       "0                           NaN   \n",
       "1                           NaN   \n",
       "2                           NaN   \n",
       "3                           NaN   \n",
       "4                          45.0   \n",
       "..                          ...   \n",
       "119                         8.0   \n",
       "120                        42.0   \n",
       "121                         NaN   \n",
       "122                        13.0   \n",
       "123                       323.0   \n",
       "\n",
       "                                                  link  \n",
       "0                http://www.aellea.com/emruf3/tip.html  \n",
       "1                http://www.aellea.com/script/qWAX.htm  \n",
       "2                 http://www.aellea.com/emruf3/tm.html  \n",
       "3    http://www.dailyscript.com/scripts/Mr%20Smith%...  \n",
       "4     http://www.dailyscript.com/scripts/Ninotchka.txt  \n",
       "..                                                 ...  \n",
       "119  http://www.dailyscript.com/scripts/The_Jacket....  \n",
       "120  http://www.dailyscript.com/scripts/somethingbo...  \n",
       "121  http://www.dailyscript.com/scripts/crazy_love....  \n",
       "122     http://www.dailyscript.com/scripts/domino.html  \n",
       "123       http://www.horrorlair.com/scripts/legend.txt  \n",
       "\n",
       "[124 rows x 6 columns]"
      ]
     },
     "execution_count": 260,
     "metadata": {},
     "output_type": "execute_result"
    }
   ],
   "source": [
    "import pandas as pd\n",
    "import requests\n",
    "from bs4 import BeautifulSoup\n",
    "import csv\n",
    "import altair as alt\n",
    "alt.renderers.enable('mimetype')\n",
    "from vega_datasets import data\n",
    "film_scripts = pd.read_csv('cleaned_pudding_data.csv')\n",
    "film_scripts"
   ]
  },
  {
   "cell_type": "markdown",
   "metadata": {},
   "source": [
    "## Changing column name"
   ]
  },
  {
   "cell_type": "code",
   "execution_count": 261,
   "metadata": {},
   "outputs": [],
   "source": [
    "film_scripts['source'] = film_scripts['link']\n",
    "film_scripts_dropped = film_scripts.drop(['link'], axis=1) "
   ]
  },
  {
   "cell_type": "code",
   "execution_count": 262,
   "metadata": {},
   "outputs": [
    {
     "data": {
      "text/html": [
       "<div>\n",
       "<style scoped>\n",
       "    .dataframe tbody tr th:only-of-type {\n",
       "        vertical-align: middle;\n",
       "    }\n",
       "\n",
       "    .dataframe tbody tr th {\n",
       "        vertical-align: top;\n",
       "    }\n",
       "\n",
       "    .dataframe thead th {\n",
       "        text-align: right;\n",
       "    }\n",
       "</style>\n",
       "<table border=\"1\" class=\"dataframe\">\n",
       "  <thead>\n",
       "    <tr style=\"text-align: right;\">\n",
       "      <th></th>\n",
       "      <th>imdb_id</th>\n",
       "      <th>script_id</th>\n",
       "      <th>title</th>\n",
       "      <th>year</th>\n",
       "      <th>gross (inflation-adjusted)</th>\n",
       "      <th>source</th>\n",
       "    </tr>\n",
       "  </thead>\n",
       "  <tbody>\n",
       "    <tr>\n",
       "      <th>0</th>\n",
       "      <td>tt0023622</td>\n",
       "      <td>5154</td>\n",
       "      <td>Trouble in Paradise</td>\n",
       "      <td>1932</td>\n",
       "      <td>NaN</td>\n",
       "      <td>http://www.aellea.com/emruf3/tip.html</td>\n",
       "    </tr>\n",
       "    <tr>\n",
       "      <th>1</th>\n",
       "      <td>tt0024368</td>\n",
       "      <td>4677</td>\n",
       "      <td>Mystery of the Wax Museum</td>\n",
       "      <td>1933</td>\n",
       "      <td>NaN</td>\n",
       "      <td>http://www.aellea.com/script/qWAX.htm</td>\n",
       "    </tr>\n",
       "    <tr>\n",
       "      <th>2</th>\n",
       "      <td>tt0025905</td>\n",
       "      <td>5147</td>\n",
       "      <td>Transatlantic Merry-Go-Round</td>\n",
       "      <td>1934</td>\n",
       "      <td>NaN</td>\n",
       "      <td>http://www.aellea.com/emruf3/tm.html</td>\n",
       "    </tr>\n",
       "    <tr>\n",
       "      <th>3</th>\n",
       "      <td>tt0031679</td>\n",
       "      <td>4658</td>\n",
       "      <td>Mr. Smith Goes to Washington</td>\n",
       "      <td>1939</td>\n",
       "      <td>NaN</td>\n",
       "      <td>http://www.dailyscript.com/scripts/Mr%20Smith%...</td>\n",
       "    </tr>\n",
       "    <tr>\n",
       "      <th>4</th>\n",
       "      <td>tt0031725</td>\n",
       "      <td>3016</td>\n",
       "      <td>Ninotchka</td>\n",
       "      <td>1939</td>\n",
       "      <td>45.0</td>\n",
       "      <td>http://www.dailyscript.com/scripts/Ninotchka.txt</td>\n",
       "    </tr>\n",
       "    <tr>\n",
       "      <th>...</th>\n",
       "      <td>...</td>\n",
       "      <td>...</td>\n",
       "      <td>...</td>\n",
       "      <td>...</td>\n",
       "      <td>...</td>\n",
       "      <td>...</td>\n",
       "    </tr>\n",
       "    <tr>\n",
       "      <th>119</th>\n",
       "      <td>tt0366627</td>\n",
       "      <td>2651</td>\n",
       "      <td>The Jacket</td>\n",
       "      <td>2005</td>\n",
       "      <td>8.0</td>\n",
       "      <td>http://www.dailyscript.com/scripts/The_Jacket....</td>\n",
       "    </tr>\n",
       "    <tr>\n",
       "      <th>120</th>\n",
       "      <td>tt0372532</td>\n",
       "      <td>4992</td>\n",
       "      <td>The Wedding Date</td>\n",
       "      <td>2005</td>\n",
       "      <td>42.0</td>\n",
       "      <td>http://www.dailyscript.com/scripts/somethingbo...</td>\n",
       "    </tr>\n",
       "    <tr>\n",
       "      <th>121</th>\n",
       "      <td>tt0416658</td>\n",
       "      <td>4034</td>\n",
       "      <td>Crazylove</td>\n",
       "      <td>2005</td>\n",
       "      <td>NaN</td>\n",
       "      <td>http://www.dailyscript.com/scripts/crazy_love....</td>\n",
       "    </tr>\n",
       "    <tr>\n",
       "      <th>122</th>\n",
       "      <td>tt0421054</td>\n",
       "      <td>4121</td>\n",
       "      <td>Domino</td>\n",
       "      <td>2005</td>\n",
       "      <td>13.0</td>\n",
       "      <td>http://www.dailyscript.com/scripts/domino.html</td>\n",
       "    </tr>\n",
       "    <tr>\n",
       "      <th>123</th>\n",
       "      <td>tt0480249</td>\n",
       "      <td>4392</td>\n",
       "      <td>I Am Legend</td>\n",
       "      <td>2007</td>\n",
       "      <td>323.0</td>\n",
       "      <td>http://www.horrorlair.com/scripts/legend.txt</td>\n",
       "    </tr>\n",
       "  </tbody>\n",
       "</table>\n",
       "<p>124 rows × 6 columns</p>\n",
       "</div>"
      ],
      "text/plain": [
       "       imdb_id  script_id                         title  year  \\\n",
       "0    tt0023622       5154           Trouble in Paradise  1932   \n",
       "1    tt0024368       4677     Mystery of the Wax Museum  1933   \n",
       "2    tt0025905       5147  Transatlantic Merry-Go-Round  1934   \n",
       "3    tt0031679       4658  Mr. Smith Goes to Washington  1939   \n",
       "4    tt0031725       3016                     Ninotchka  1939   \n",
       "..         ...        ...                           ...   ...   \n",
       "119  tt0366627       2651                    The Jacket  2005   \n",
       "120  tt0372532       4992              The Wedding Date  2005   \n",
       "121  tt0416658       4034                     Crazylove  2005   \n",
       "122  tt0421054       4121                        Domino  2005   \n",
       "123  tt0480249       4392                   I Am Legend  2007   \n",
       "\n",
       "     gross (inflation-adjusted)  \\\n",
       "0                           NaN   \n",
       "1                           NaN   \n",
       "2                           NaN   \n",
       "3                           NaN   \n",
       "4                          45.0   \n",
       "..                          ...   \n",
       "119                         8.0   \n",
       "120                        42.0   \n",
       "121                         NaN   \n",
       "122                        13.0   \n",
       "123                       323.0   \n",
       "\n",
       "                                                source  \n",
       "0                http://www.aellea.com/emruf3/tip.html  \n",
       "1                http://www.aellea.com/script/qWAX.htm  \n",
       "2                 http://www.aellea.com/emruf3/tm.html  \n",
       "3    http://www.dailyscript.com/scripts/Mr%20Smith%...  \n",
       "4     http://www.dailyscript.com/scripts/Ninotchka.txt  \n",
       "..                                                 ...  \n",
       "119  http://www.dailyscript.com/scripts/The_Jacket....  \n",
       "120  http://www.dailyscript.com/scripts/somethingbo...  \n",
       "121  http://www.dailyscript.com/scripts/crazy_love....  \n",
       "122     http://www.dailyscript.com/scripts/domino.html  \n",
       "123       http://www.horrorlair.com/scripts/legend.txt  \n",
       "\n",
       "[124 rows x 6 columns]"
      ]
     },
     "execution_count": 262,
     "metadata": {},
     "output_type": "execute_result"
    }
   ],
   "source": [
    "film_scripts_dropped"
   ]
  },
  {
   "cell_type": "code",
   "execution_count": 263,
   "metadata": {},
   "outputs": [],
   "source": [
    "film_scripts_dropped['gross_ia'] = film_scripts_dropped['gross (inflation-adjusted)']\n",
    "film_scripts_dropped = film_scripts_dropped.drop(['gross (inflation-adjusted)'], axis=1) "
   ]
  },
  {
   "cell_type": "code",
   "execution_count": 264,
   "metadata": {},
   "outputs": [
    {
     "data": {
      "text/html": [
       "<div>\n",
       "<style scoped>\n",
       "    .dataframe tbody tr th:only-of-type {\n",
       "        vertical-align: middle;\n",
       "    }\n",
       "\n",
       "    .dataframe tbody tr th {\n",
       "        vertical-align: top;\n",
       "    }\n",
       "\n",
       "    .dataframe thead th {\n",
       "        text-align: right;\n",
       "    }\n",
       "</style>\n",
       "<table border=\"1\" class=\"dataframe\">\n",
       "  <thead>\n",
       "    <tr style=\"text-align: right;\">\n",
       "      <th></th>\n",
       "      <th>imdb_id</th>\n",
       "      <th>script_id</th>\n",
       "      <th>title</th>\n",
       "      <th>year</th>\n",
       "      <th>source</th>\n",
       "      <th>gross_ia</th>\n",
       "    </tr>\n",
       "  </thead>\n",
       "  <tbody>\n",
       "    <tr>\n",
       "      <th>0</th>\n",
       "      <td>tt0023622</td>\n",
       "      <td>5154</td>\n",
       "      <td>Trouble in Paradise</td>\n",
       "      <td>1932</td>\n",
       "      <td>http://www.aellea.com/emruf3/tip.html</td>\n",
       "      <td>NaN</td>\n",
       "    </tr>\n",
       "    <tr>\n",
       "      <th>1</th>\n",
       "      <td>tt0024368</td>\n",
       "      <td>4677</td>\n",
       "      <td>Mystery of the Wax Museum</td>\n",
       "      <td>1933</td>\n",
       "      <td>http://www.aellea.com/script/qWAX.htm</td>\n",
       "      <td>NaN</td>\n",
       "    </tr>\n",
       "    <tr>\n",
       "      <th>2</th>\n",
       "      <td>tt0025905</td>\n",
       "      <td>5147</td>\n",
       "      <td>Transatlantic Merry-Go-Round</td>\n",
       "      <td>1934</td>\n",
       "      <td>http://www.aellea.com/emruf3/tm.html</td>\n",
       "      <td>NaN</td>\n",
       "    </tr>\n",
       "    <tr>\n",
       "      <th>3</th>\n",
       "      <td>tt0031679</td>\n",
       "      <td>4658</td>\n",
       "      <td>Mr. Smith Goes to Washington</td>\n",
       "      <td>1939</td>\n",
       "      <td>http://www.dailyscript.com/scripts/Mr%20Smith%...</td>\n",
       "      <td>NaN</td>\n",
       "    </tr>\n",
       "    <tr>\n",
       "      <th>4</th>\n",
       "      <td>tt0031725</td>\n",
       "      <td>3016</td>\n",
       "      <td>Ninotchka</td>\n",
       "      <td>1939</td>\n",
       "      <td>http://www.dailyscript.com/scripts/Ninotchka.txt</td>\n",
       "      <td>45.0</td>\n",
       "    </tr>\n",
       "    <tr>\n",
       "      <th>...</th>\n",
       "      <td>...</td>\n",
       "      <td>...</td>\n",
       "      <td>...</td>\n",
       "      <td>...</td>\n",
       "      <td>...</td>\n",
       "      <td>...</td>\n",
       "    </tr>\n",
       "    <tr>\n",
       "      <th>119</th>\n",
       "      <td>tt0366627</td>\n",
       "      <td>2651</td>\n",
       "      <td>The Jacket</td>\n",
       "      <td>2005</td>\n",
       "      <td>http://www.dailyscript.com/scripts/The_Jacket....</td>\n",
       "      <td>8.0</td>\n",
       "    </tr>\n",
       "    <tr>\n",
       "      <th>120</th>\n",
       "      <td>tt0372532</td>\n",
       "      <td>4992</td>\n",
       "      <td>The Wedding Date</td>\n",
       "      <td>2005</td>\n",
       "      <td>http://www.dailyscript.com/scripts/somethingbo...</td>\n",
       "      <td>42.0</td>\n",
       "    </tr>\n",
       "    <tr>\n",
       "      <th>121</th>\n",
       "      <td>tt0416658</td>\n",
       "      <td>4034</td>\n",
       "      <td>Crazylove</td>\n",
       "      <td>2005</td>\n",
       "      <td>http://www.dailyscript.com/scripts/crazy_love....</td>\n",
       "      <td>NaN</td>\n",
       "    </tr>\n",
       "    <tr>\n",
       "      <th>122</th>\n",
       "      <td>tt0421054</td>\n",
       "      <td>4121</td>\n",
       "      <td>Domino</td>\n",
       "      <td>2005</td>\n",
       "      <td>http://www.dailyscript.com/scripts/domino.html</td>\n",
       "      <td>13.0</td>\n",
       "    </tr>\n",
       "    <tr>\n",
       "      <th>123</th>\n",
       "      <td>tt0480249</td>\n",
       "      <td>4392</td>\n",
       "      <td>I Am Legend</td>\n",
       "      <td>2007</td>\n",
       "      <td>http://www.horrorlair.com/scripts/legend.txt</td>\n",
       "      <td>323.0</td>\n",
       "    </tr>\n",
       "  </tbody>\n",
       "</table>\n",
       "<p>124 rows × 6 columns</p>\n",
       "</div>"
      ],
      "text/plain": [
       "       imdb_id  script_id                         title  year  \\\n",
       "0    tt0023622       5154           Trouble in Paradise  1932   \n",
       "1    tt0024368       4677     Mystery of the Wax Museum  1933   \n",
       "2    tt0025905       5147  Transatlantic Merry-Go-Round  1934   \n",
       "3    tt0031679       4658  Mr. Smith Goes to Washington  1939   \n",
       "4    tt0031725       3016                     Ninotchka  1939   \n",
       "..         ...        ...                           ...   ...   \n",
       "119  tt0366627       2651                    The Jacket  2005   \n",
       "120  tt0372532       4992              The Wedding Date  2005   \n",
       "121  tt0416658       4034                     Crazylove  2005   \n",
       "122  tt0421054       4121                        Domino  2005   \n",
       "123  tt0480249       4392                   I Am Legend  2007   \n",
       "\n",
       "                                                source  gross_ia  \n",
       "0                http://www.aellea.com/emruf3/tip.html       NaN  \n",
       "1                http://www.aellea.com/script/qWAX.htm       NaN  \n",
       "2                 http://www.aellea.com/emruf3/tm.html       NaN  \n",
       "3    http://www.dailyscript.com/scripts/Mr%20Smith%...       NaN  \n",
       "4     http://www.dailyscript.com/scripts/Ninotchka.txt      45.0  \n",
       "..                                                 ...       ...  \n",
       "119  http://www.dailyscript.com/scripts/The_Jacket....       8.0  \n",
       "120  http://www.dailyscript.com/scripts/somethingbo...      42.0  \n",
       "121  http://www.dailyscript.com/scripts/crazy_love....       NaN  \n",
       "122     http://www.dailyscript.com/scripts/domino.html      13.0  \n",
       "123       http://www.horrorlair.com/scripts/legend.txt     323.0  \n",
       "\n",
       "[124 rows x 6 columns]"
      ]
     },
     "execution_count": 264,
     "metadata": {},
     "output_type": "execute_result"
    }
   ],
   "source": [
    "film_scripts_dropped"
   ]
  },
  {
   "cell_type": "markdown",
   "metadata": {},
   "source": [
    "## Remove missing values"
   ]
  },
  {
   "cell_type": "code",
   "execution_count": 265,
   "metadata": {},
   "outputs": [
    {
     "data": {
      "text/html": [
       "<div>\n",
       "<style scoped>\n",
       "    .dataframe tbody tr th:only-of-type {\n",
       "        vertical-align: middle;\n",
       "    }\n",
       "\n",
       "    .dataframe tbody tr th {\n",
       "        vertical-align: top;\n",
       "    }\n",
       "\n",
       "    .dataframe thead th {\n",
       "        text-align: right;\n",
       "    }\n",
       "</style>\n",
       "<table border=\"1\" class=\"dataframe\">\n",
       "  <thead>\n",
       "    <tr style=\"text-align: right;\">\n",
       "      <th></th>\n",
       "      <th>imdb_id</th>\n",
       "      <th>script_id</th>\n",
       "      <th>title</th>\n",
       "      <th>year</th>\n",
       "      <th>source</th>\n",
       "      <th>gross_ia</th>\n",
       "    </tr>\n",
       "  </thead>\n",
       "  <tbody>\n",
       "    <tr>\n",
       "      <th>4</th>\n",
       "      <td>tt0031725</td>\n",
       "      <td>3016</td>\n",
       "      <td>Ninotchka</td>\n",
       "      <td>1939</td>\n",
       "      <td>http://www.dailyscript.com/scripts/Ninotchka.txt</td>\n",
       "      <td>45.0</td>\n",
       "    </tr>\n",
       "    <tr>\n",
       "      <th>15</th>\n",
       "      <td>tt0047296</td>\n",
       "      <td>4745</td>\n",
       "      <td>On the Waterfront</td>\n",
       "      <td>1954</td>\n",
       "      <td>http://www.dailyscript.com/scripts/onthewaterf...</td>\n",
       "      <td>185.0</td>\n",
       "    </tr>\n",
       "    <tr>\n",
       "      <th>23</th>\n",
       "      <td>tt0068638</td>\n",
       "      <td>2387</td>\n",
       "      <td>The Getaway</td>\n",
       "      <td>1972</td>\n",
       "      <td>http://www.dailyscript.com/scripts/getaway.html</td>\n",
       "      <td>138.0</td>\n",
       "    </tr>\n",
       "    <tr>\n",
       "      <th>25</th>\n",
       "      <td>tt0070047</td>\n",
       "      <td>4184</td>\n",
       "      <td>The Exorcist</td>\n",
       "      <td>1973</td>\n",
       "      <td>http://www.horrorlair.com/scripts/exorcist.html</td>\n",
       "      <td>195.0</td>\n",
       "    </tr>\n",
       "    <tr>\n",
       "      <th>27</th>\n",
       "      <td>tt0071562</td>\n",
       "      <td>4280</td>\n",
       "      <td>The Godfather: Part II</td>\n",
       "      <td>1974</td>\n",
       "      <td>http://www.dailyscript.com/scripts/godfather2....</td>\n",
       "      <td>266.0</td>\n",
       "    </tr>\n",
       "    <tr>\n",
       "      <th>...</th>\n",
       "      <td>...</td>\n",
       "      <td>...</td>\n",
       "      <td>...</td>\n",
       "      <td>...</td>\n",
       "      <td>...</td>\n",
       "      <td>...</td>\n",
       "    </tr>\n",
       "    <tr>\n",
       "      <th>118</th>\n",
       "      <td>tt0335266</td>\n",
       "      <td>2812</td>\n",
       "      <td>Lost in Translation</td>\n",
       "      <td>2003</td>\n",
       "      <td>http://www.dailyscript.com/scripts/lost-in-tra...</td>\n",
       "      <td>64.0</td>\n",
       "    </tr>\n",
       "    <tr>\n",
       "      <th>119</th>\n",
       "      <td>tt0366627</td>\n",
       "      <td>2651</td>\n",
       "      <td>The Jacket</td>\n",
       "      <td>2005</td>\n",
       "      <td>http://www.dailyscript.com/scripts/The_Jacket....</td>\n",
       "      <td>8.0</td>\n",
       "    </tr>\n",
       "    <tr>\n",
       "      <th>120</th>\n",
       "      <td>tt0372532</td>\n",
       "      <td>4992</td>\n",
       "      <td>The Wedding Date</td>\n",
       "      <td>2005</td>\n",
       "      <td>http://www.dailyscript.com/scripts/somethingbo...</td>\n",
       "      <td>42.0</td>\n",
       "    </tr>\n",
       "    <tr>\n",
       "      <th>122</th>\n",
       "      <td>tt0421054</td>\n",
       "      <td>4121</td>\n",
       "      <td>Domino</td>\n",
       "      <td>2005</td>\n",
       "      <td>http://www.dailyscript.com/scripts/domino.html</td>\n",
       "      <td>13.0</td>\n",
       "    </tr>\n",
       "    <tr>\n",
       "      <th>123</th>\n",
       "      <td>tt0480249</td>\n",
       "      <td>4392</td>\n",
       "      <td>I Am Legend</td>\n",
       "      <td>2007</td>\n",
       "      <td>http://www.horrorlair.com/scripts/legend.txt</td>\n",
       "      <td>323.0</td>\n",
       "    </tr>\n",
       "  </tbody>\n",
       "</table>\n",
       "<p>82 rows × 6 columns</p>\n",
       "</div>"
      ],
      "text/plain": [
       "       imdb_id  script_id                   title  year  \\\n",
       "4    tt0031725       3016               Ninotchka  1939   \n",
       "15   tt0047296       4745       On the Waterfront  1954   \n",
       "23   tt0068638       2387             The Getaway  1972   \n",
       "25   tt0070047       4184            The Exorcist  1973   \n",
       "27   tt0071562       4280  The Godfather: Part II  1974   \n",
       "..         ...        ...                     ...   ...   \n",
       "118  tt0335266       2812     Lost in Translation  2003   \n",
       "119  tt0366627       2651              The Jacket  2005   \n",
       "120  tt0372532       4992        The Wedding Date  2005   \n",
       "122  tt0421054       4121                  Domino  2005   \n",
       "123  tt0480249       4392             I Am Legend  2007   \n",
       "\n",
       "                                                source  gross_ia  \n",
       "4     http://www.dailyscript.com/scripts/Ninotchka.txt      45.0  \n",
       "15   http://www.dailyscript.com/scripts/onthewaterf...     185.0  \n",
       "23     http://www.dailyscript.com/scripts/getaway.html     138.0  \n",
       "25     http://www.horrorlair.com/scripts/exorcist.html     195.0  \n",
       "27   http://www.dailyscript.com/scripts/godfather2....     266.0  \n",
       "..                                                 ...       ...  \n",
       "118  http://www.dailyscript.com/scripts/lost-in-tra...      64.0  \n",
       "119  http://www.dailyscript.com/scripts/The_Jacket....       8.0  \n",
       "120  http://www.dailyscript.com/scripts/somethingbo...      42.0  \n",
       "122     http://www.dailyscript.com/scripts/domino.html      13.0  \n",
       "123       http://www.horrorlair.com/scripts/legend.txt     323.0  \n",
       "\n",
       "[82 rows x 6 columns]"
      ]
     },
     "execution_count": 265,
     "metadata": {},
     "output_type": "execute_result"
    }
   ],
   "source": [
    "film_scripts_dropped[film_scripts_dropped.gross_ia >= 0]\n",
    "film_scripts_cleaned = film_scripts_dropped[film_scripts_dropped.gross_ia.isna() == False]\n",
    "film_scripts_cleaned"
   ]
  },
  {
   "cell_type": "markdown",
   "metadata": {},
   "source": [
    "no more missing value"
   ]
  },
  {
   "cell_type": "code",
   "execution_count": 266,
   "metadata": {},
   "outputs": [
    {
     "data": {
      "text/plain": [
       "imdb_id      0\n",
       "script_id    0\n",
       "title        0\n",
       "year         0\n",
       "source       0\n",
       "gross_ia     0\n",
       "dtype: int64"
      ]
     },
     "execution_count": 266,
     "metadata": {},
     "output_type": "execute_result"
    }
   ],
   "source": [
    "film_scripts_cleaned.isna().sum()"
   ]
  },
  {
   "cell_type": "markdown",
   "metadata": {},
   "source": [
    "### Counting how many words in the script"
   ]
  },
  {
   "cell_type": "code",
   "execution_count": 267,
   "metadata": {},
   "outputs": [],
   "source": [
    "import numpy as np\n",
    "\n",
    "def word_count(text):\n",
    "    words = text.split()\n",
    "    return len(words)\n",
    "\n",
    "word_counts = []\n",
    "for link in film_scripts_cleaned['source']:\n",
    "    volume_url = link\n",
    "    volume_response = requests.get(volume_url)\n",
    "    if volume_response.status_code == 200:\n",
    "        volume_soup = BeautifulSoup(volume_response.text, \"html.parser\")\n",
    "        volume_text = volume_soup.get_text().replace(\"\\n\", \"\")\n",
    "        count = word_count(volume_text)\n",
    "        word_counts.append(count)\n",
    "    else:\n",
    "        word_counts.append(np.nan)\n",
    "\n",
    "# word_counts now contains the word count for each link, or np.nan if the request was not successful"
   ]
  },
  {
   "cell_type": "code",
   "execution_count": 268,
   "metadata": {},
   "outputs": [
    {
     "name": "stderr",
     "output_type": "stream",
     "text": [
      "C:\\Users\\arthu\\AppData\\Local\\Temp\\ipykernel_8112\\4181804386.py:1: SettingWithCopyWarning: \n",
      "A value is trying to be set on a copy of a slice from a DataFrame.\n",
      "Try using .loc[row_indexer,col_indexer] = value instead\n",
      "\n",
      "See the caveats in the documentation: https://pandas.pydata.org/pandas-docs/stable/user_guide/indexing.html#returning-a-view-versus-a-copy\n",
      "  film_scripts_cleaned['word_count'] = word_counts\n"
     ]
    },
    {
     "data": {
      "text/html": [
       "<div>\n",
       "<style scoped>\n",
       "    .dataframe tbody tr th:only-of-type {\n",
       "        vertical-align: middle;\n",
       "    }\n",
       "\n",
       "    .dataframe tbody tr th {\n",
       "        vertical-align: top;\n",
       "    }\n",
       "\n",
       "    .dataframe thead th {\n",
       "        text-align: right;\n",
       "    }\n",
       "</style>\n",
       "<table border=\"1\" class=\"dataframe\">\n",
       "  <thead>\n",
       "    <tr style=\"text-align: right;\">\n",
       "      <th></th>\n",
       "      <th>imdb_id</th>\n",
       "      <th>script_id</th>\n",
       "      <th>title</th>\n",
       "      <th>year</th>\n",
       "      <th>source</th>\n",
       "      <th>gross_ia</th>\n",
       "      <th>word_count</th>\n",
       "    </tr>\n",
       "  </thead>\n",
       "  <tbody>\n",
       "    <tr>\n",
       "      <th>4</th>\n",
       "      <td>tt0031725</td>\n",
       "      <td>3016</td>\n",
       "      <td>Ninotchka</td>\n",
       "      <td>1939</td>\n",
       "      <td>http://www.dailyscript.com/scripts/Ninotchka.txt</td>\n",
       "      <td>45.0</td>\n",
       "      <td>28296.0</td>\n",
       "    </tr>\n",
       "    <tr>\n",
       "      <th>15</th>\n",
       "      <td>tt0047296</td>\n",
       "      <td>4745</td>\n",
       "      <td>On the Waterfront</td>\n",
       "      <td>1954</td>\n",
       "      <td>http://www.dailyscript.com/scripts/onthewaterf...</td>\n",
       "      <td>185.0</td>\n",
       "      <td>25039.0</td>\n",
       "    </tr>\n",
       "    <tr>\n",
       "      <th>23</th>\n",
       "      <td>tt0068638</td>\n",
       "      <td>2387</td>\n",
       "      <td>The Getaway</td>\n",
       "      <td>1972</td>\n",
       "      <td>http://www.dailyscript.com/scripts/getaway.html</td>\n",
       "      <td>138.0</td>\n",
       "      <td>24922.0</td>\n",
       "    </tr>\n",
       "    <tr>\n",
       "      <th>25</th>\n",
       "      <td>tt0070047</td>\n",
       "      <td>4184</td>\n",
       "      <td>The Exorcist</td>\n",
       "      <td>1973</td>\n",
       "      <td>http://www.horrorlair.com/scripts/exorcist.html</td>\n",
       "      <td>195.0</td>\n",
       "      <td>NaN</td>\n",
       "    </tr>\n",
       "    <tr>\n",
       "      <th>27</th>\n",
       "      <td>tt0071562</td>\n",
       "      <td>4280</td>\n",
       "      <td>The Godfather: Part II</td>\n",
       "      <td>1974</td>\n",
       "      <td>http://www.dailyscript.com/scripts/godfather2....</td>\n",
       "      <td>266.0</td>\n",
       "      <td>41143.0</td>\n",
       "    </tr>\n",
       "    <tr>\n",
       "      <th>...</th>\n",
       "      <td>...</td>\n",
       "      <td>...</td>\n",
       "      <td>...</td>\n",
       "      <td>...</td>\n",
       "      <td>...</td>\n",
       "      <td>...</td>\n",
       "      <td>...</td>\n",
       "    </tr>\n",
       "    <tr>\n",
       "      <th>118</th>\n",
       "      <td>tt0335266</td>\n",
       "      <td>2812</td>\n",
       "      <td>Lost in Translation</td>\n",
       "      <td>2003</td>\n",
       "      <td>http://www.dailyscript.com/scripts/lost-in-tra...</td>\n",
       "      <td>64.0</td>\n",
       "      <td>13337.0</td>\n",
       "    </tr>\n",
       "    <tr>\n",
       "      <th>119</th>\n",
       "      <td>tt0366627</td>\n",
       "      <td>2651</td>\n",
       "      <td>The Jacket</td>\n",
       "      <td>2005</td>\n",
       "      <td>http://www.dailyscript.com/scripts/The_Jacket....</td>\n",
       "      <td>8.0</td>\n",
       "      <td>28127.0</td>\n",
       "    </tr>\n",
       "    <tr>\n",
       "      <th>120</th>\n",
       "      <td>tt0372532</td>\n",
       "      <td>4992</td>\n",
       "      <td>The Wedding Date</td>\n",
       "      <td>2005</td>\n",
       "      <td>http://www.dailyscript.com/scripts/somethingbo...</td>\n",
       "      <td>42.0</td>\n",
       "      <td>20706.0</td>\n",
       "    </tr>\n",
       "    <tr>\n",
       "      <th>122</th>\n",
       "      <td>tt0421054</td>\n",
       "      <td>4121</td>\n",
       "      <td>Domino</td>\n",
       "      <td>2005</td>\n",
       "      <td>http://www.dailyscript.com/scripts/domino.html</td>\n",
       "      <td>13.0</td>\n",
       "      <td>26862.0</td>\n",
       "    </tr>\n",
       "    <tr>\n",
       "      <th>123</th>\n",
       "      <td>tt0480249</td>\n",
       "      <td>4392</td>\n",
       "      <td>I Am Legend</td>\n",
       "      <td>2007</td>\n",
       "      <td>http://www.horrorlair.com/scripts/legend.txt</td>\n",
       "      <td>323.0</td>\n",
       "      <td>NaN</td>\n",
       "    </tr>\n",
       "  </tbody>\n",
       "</table>\n",
       "<p>82 rows × 7 columns</p>\n",
       "</div>"
      ],
      "text/plain": [
       "       imdb_id  script_id                   title  year  \\\n",
       "4    tt0031725       3016               Ninotchka  1939   \n",
       "15   tt0047296       4745       On the Waterfront  1954   \n",
       "23   tt0068638       2387             The Getaway  1972   \n",
       "25   tt0070047       4184            The Exorcist  1973   \n",
       "27   tt0071562       4280  The Godfather: Part II  1974   \n",
       "..         ...        ...                     ...   ...   \n",
       "118  tt0335266       2812     Lost in Translation  2003   \n",
       "119  tt0366627       2651              The Jacket  2005   \n",
       "120  tt0372532       4992        The Wedding Date  2005   \n",
       "122  tt0421054       4121                  Domino  2005   \n",
       "123  tt0480249       4392             I Am Legend  2007   \n",
       "\n",
       "                                                source  gross_ia  word_count  \n",
       "4     http://www.dailyscript.com/scripts/Ninotchka.txt      45.0     28296.0  \n",
       "15   http://www.dailyscript.com/scripts/onthewaterf...     185.0     25039.0  \n",
       "23     http://www.dailyscript.com/scripts/getaway.html     138.0     24922.0  \n",
       "25     http://www.horrorlair.com/scripts/exorcist.html     195.0         NaN  \n",
       "27   http://www.dailyscript.com/scripts/godfather2....     266.0     41143.0  \n",
       "..                                                 ...       ...         ...  \n",
       "118  http://www.dailyscript.com/scripts/lost-in-tra...      64.0     13337.0  \n",
       "119  http://www.dailyscript.com/scripts/The_Jacket....       8.0     28127.0  \n",
       "120  http://www.dailyscript.com/scripts/somethingbo...      42.0     20706.0  \n",
       "122     http://www.dailyscript.com/scripts/domino.html      13.0     26862.0  \n",
       "123       http://www.horrorlair.com/scripts/legend.txt     323.0         NaN  \n",
       "\n",
       "[82 rows x 7 columns]"
      ]
     },
     "execution_count": 268,
     "metadata": {},
     "output_type": "execute_result"
    }
   ],
   "source": [
    "film_scripts_cleaned['word_count'] = word_counts\n",
    "film_scripts_cleaned"
   ]
  },
  {
   "cell_type": "markdown",
   "metadata": {},
   "source": [
    "Removing movies that has a forbidden script"
   ]
  },
  {
   "cell_type": "code",
   "execution_count": 269,
   "metadata": {},
   "outputs": [
    {
     "data": {
      "text/html": [
       "<div>\n",
       "<style scoped>\n",
       "    .dataframe tbody tr th:only-of-type {\n",
       "        vertical-align: middle;\n",
       "    }\n",
       "\n",
       "    .dataframe tbody tr th {\n",
       "        vertical-align: top;\n",
       "    }\n",
       "\n",
       "    .dataframe thead th {\n",
       "        text-align: right;\n",
       "    }\n",
       "</style>\n",
       "<table border=\"1\" class=\"dataframe\">\n",
       "  <thead>\n",
       "    <tr style=\"text-align: right;\">\n",
       "      <th></th>\n",
       "      <th>imdb_id</th>\n",
       "      <th>script_id</th>\n",
       "      <th>title</th>\n",
       "      <th>year</th>\n",
       "      <th>source</th>\n",
       "      <th>gross_ia</th>\n",
       "      <th>word_count</th>\n",
       "    </tr>\n",
       "  </thead>\n",
       "  <tbody>\n",
       "    <tr>\n",
       "      <th>0</th>\n",
       "      <td>tt0031725</td>\n",
       "      <td>3016</td>\n",
       "      <td>Ninotchka</td>\n",
       "      <td>1939</td>\n",
       "      <td>http://www.dailyscript.com/scripts/Ninotchka.txt</td>\n",
       "      <td>45.0</td>\n",
       "      <td>28296.0</td>\n",
       "    </tr>\n",
       "    <tr>\n",
       "      <th>1</th>\n",
       "      <td>tt0047296</td>\n",
       "      <td>4745</td>\n",
       "      <td>On the Waterfront</td>\n",
       "      <td>1954</td>\n",
       "      <td>http://www.dailyscript.com/scripts/onthewaterf...</td>\n",
       "      <td>185.0</td>\n",
       "      <td>25039.0</td>\n",
       "    </tr>\n",
       "    <tr>\n",
       "      <th>2</th>\n",
       "      <td>tt0068638</td>\n",
       "      <td>2387</td>\n",
       "      <td>The Getaway</td>\n",
       "      <td>1972</td>\n",
       "      <td>http://www.dailyscript.com/scripts/getaway.html</td>\n",
       "      <td>138.0</td>\n",
       "      <td>24922.0</td>\n",
       "    </tr>\n",
       "    <tr>\n",
       "      <th>3</th>\n",
       "      <td>tt0071562</td>\n",
       "      <td>4280</td>\n",
       "      <td>The Godfather: Part II</td>\n",
       "      <td>1974</td>\n",
       "      <td>http://www.dailyscript.com/scripts/godfather2....</td>\n",
       "      <td>266.0</td>\n",
       "      <td>41143.0</td>\n",
       "    </tr>\n",
       "    <tr>\n",
       "      <th>4</th>\n",
       "      <td>tt0073195</td>\n",
       "      <td>2666</td>\n",
       "      <td>Jaws</td>\n",
       "      <td>1975</td>\n",
       "      <td>http://www.dailyscript.com/scripts/Jaws.txt</td>\n",
       "      <td>1103.0</td>\n",
       "      <td>28073.0</td>\n",
       "    </tr>\n",
       "    <tr>\n",
       "      <th>...</th>\n",
       "      <td>...</td>\n",
       "      <td>...</td>\n",
       "      <td>...</td>\n",
       "      <td>...</td>\n",
       "      <td>...</td>\n",
       "      <td>...</td>\n",
       "      <td>...</td>\n",
       "    </tr>\n",
       "    <tr>\n",
       "      <th>64</th>\n",
       "      <td>tt0309593</td>\n",
       "      <td>2294</td>\n",
       "      <td>Final Destination 2</td>\n",
       "      <td>2003</td>\n",
       "      <td>http://www.dailyscript.com/scripts/final_desti...</td>\n",
       "      <td>67.0</td>\n",
       "      <td>23326.0</td>\n",
       "    </tr>\n",
       "    <tr>\n",
       "      <th>65</th>\n",
       "      <td>tt0335266</td>\n",
       "      <td>2812</td>\n",
       "      <td>Lost in Translation</td>\n",
       "      <td>2003</td>\n",
       "      <td>http://www.dailyscript.com/scripts/lost-in-tra...</td>\n",
       "      <td>64.0</td>\n",
       "      <td>13337.0</td>\n",
       "    </tr>\n",
       "    <tr>\n",
       "      <th>66</th>\n",
       "      <td>tt0366627</td>\n",
       "      <td>2651</td>\n",
       "      <td>The Jacket</td>\n",
       "      <td>2005</td>\n",
       "      <td>http://www.dailyscript.com/scripts/The_Jacket....</td>\n",
       "      <td>8.0</td>\n",
       "      <td>28127.0</td>\n",
       "    </tr>\n",
       "    <tr>\n",
       "      <th>67</th>\n",
       "      <td>tt0372532</td>\n",
       "      <td>4992</td>\n",
       "      <td>The Wedding Date</td>\n",
       "      <td>2005</td>\n",
       "      <td>http://www.dailyscript.com/scripts/somethingbo...</td>\n",
       "      <td>42.0</td>\n",
       "      <td>20706.0</td>\n",
       "    </tr>\n",
       "    <tr>\n",
       "      <th>68</th>\n",
       "      <td>tt0421054</td>\n",
       "      <td>4121</td>\n",
       "      <td>Domino</td>\n",
       "      <td>2005</td>\n",
       "      <td>http://www.dailyscript.com/scripts/domino.html</td>\n",
       "      <td>13.0</td>\n",
       "      <td>26862.0</td>\n",
       "    </tr>\n",
       "  </tbody>\n",
       "</table>\n",
       "<p>69 rows × 7 columns</p>\n",
       "</div>"
      ],
      "text/plain": [
       "      imdb_id  script_id                   title  year  \\\n",
       "0   tt0031725       3016               Ninotchka  1939   \n",
       "1   tt0047296       4745       On the Waterfront  1954   \n",
       "2   tt0068638       2387             The Getaway  1972   \n",
       "3   tt0071562       4280  The Godfather: Part II  1974   \n",
       "4   tt0073195       2666                    Jaws  1975   \n",
       "..        ...        ...                     ...   ...   \n",
       "64  tt0309593       2294     Final Destination 2  2003   \n",
       "65  tt0335266       2812     Lost in Translation  2003   \n",
       "66  tt0366627       2651              The Jacket  2005   \n",
       "67  tt0372532       4992        The Wedding Date  2005   \n",
       "68  tt0421054       4121                  Domino  2005   \n",
       "\n",
       "                                               source  gross_ia  word_count  \n",
       "0    http://www.dailyscript.com/scripts/Ninotchka.txt      45.0     28296.0  \n",
       "1   http://www.dailyscript.com/scripts/onthewaterf...     185.0     25039.0  \n",
       "2     http://www.dailyscript.com/scripts/getaway.html     138.0     24922.0  \n",
       "3   http://www.dailyscript.com/scripts/godfather2....     266.0     41143.0  \n",
       "4         http://www.dailyscript.com/scripts/Jaws.txt    1103.0     28073.0  \n",
       "..                                                ...       ...         ...  \n",
       "64  http://www.dailyscript.com/scripts/final_desti...      67.0     23326.0  \n",
       "65  http://www.dailyscript.com/scripts/lost-in-tra...      64.0     13337.0  \n",
       "66  http://www.dailyscript.com/scripts/The_Jacket....       8.0     28127.0  \n",
       "67  http://www.dailyscript.com/scripts/somethingbo...      42.0     20706.0  \n",
       "68     http://www.dailyscript.com/scripts/domino.html      13.0     26862.0  \n",
       "\n",
       "[69 rows x 7 columns]"
      ]
     },
     "execution_count": 269,
     "metadata": {},
     "output_type": "execute_result"
    }
   ],
   "source": [
    "film_scripts_cleaned=film_scripts_cleaned.dropna().reset_index(drop=True)\n",
    "film_scripts_cleaned"
   ]
  },
  {
   "cell_type": "markdown",
   "metadata": {},
   "source": [
    "### change years into date form"
   ]
  },
  {
   "cell_type": "code",
   "execution_count": 270,
   "metadata": {},
   "outputs": [],
   "source": [
    "film_scripts_cleaned['date']=film_scripts_cleaned['year'].astype(str)+'-01-01'\n",
    "film_scripts_cleaned['date'] = pd.to_datetime(film_scripts_cleaned['date'])"
   ]
  },
  {
   "cell_type": "markdown",
   "metadata": {},
   "source": [
    "### ploting the graph"
   ]
  },
  {
   "cell_type": "code",
   "execution_count": 271,
   "metadata": {},
   "outputs": [
    {
     "data": {
      "application/vnd.vegalite.v5+json": {
       "$schema": "https://vega.github.io/schema/vega-lite/v5.16.3.json",
       "config": {
        "view": {
         "continuousHeight": 300,
         "continuousWidth": 300
        }
       },
       "data": {
        "name": "data-1c0faf8a0a497ba7b6e97caa6d0d3c04"
       },
       "datasets": {
        "data-1c0faf8a0a497ba7b6e97caa6d0d3c04": [
         {
          "date": "1939-01-01T00:00:00",
          "gross_ia": 45,
          "imdb_id": "tt0031725",
          "script_id": 3016,
          "source": "http://www.dailyscript.com/scripts/Ninotchka.txt",
          "title": "Ninotchka",
          "word_count": 28296,
          "year": 1939
         },
         {
          "date": "1954-01-01T00:00:00",
          "gross_ia": 185,
          "imdb_id": "tt0047296",
          "script_id": 4745,
          "source": "http://www.dailyscript.com/scripts/onthewaterfront.html",
          "title": "On the Waterfront",
          "word_count": 25039,
          "year": 1954
         },
         {
          "date": "1972-01-01T00:00:00",
          "gross_ia": 138,
          "imdb_id": "tt0068638",
          "script_id": 2387,
          "source": "http://www.dailyscript.com/scripts/getaway.html",
          "title": "The Getaway",
          "word_count": 24922,
          "year": 1972
         },
         {
          "date": "1974-01-01T00:00:00",
          "gross_ia": 266,
          "imdb_id": "tt0071562",
          "script_id": 4280,
          "source": "http://www.dailyscript.com/scripts/godfather2.html",
          "title": "The Godfather: Part II",
          "word_count": 41143,
          "year": 1974
         },
         {
          "date": "1975-01-01T00:00:00",
          "gross_ia": 1103,
          "imdb_id": "tt0073195",
          "script_id": 2666,
          "source": "http://www.dailyscript.com/scripts/Jaws.txt",
          "title": "Jaws",
          "word_count": 28073,
          "year": 1975
         },
         {
          "date": "1976-01-01T00:00:00",
          "gross_ia": 102,
          "imdb_id": "tt0074812",
          "script_id": 4543,
          "source": "http://www.dailyscript.com/scripts/Logans+Run.txt",
          "title": "Logan's Run",
          "word_count": 23860,
          "year": 1976
         },
         {
          "date": "1977-01-01T00:00:00",
          "gross_ia": 495,
          "imdb_id": "tt0076729",
          "script_id": 4978,
          "source": "http://www.dailyscript.com/scripts/Smokey%20And%20The%20Bandit.txt",
          "title": "Smokey and the Bandit",
          "word_count": 20835,
          "year": 1977
         },
         {
          "date": "1979-01-01T00:00:00",
          "gross_ia": 285,
          "imdb_id": "tt0079945",
          "script_id": 5025,
          "source": "http://www.dailyscript.com/scripts/startrek01.html",
          "title": "Star Trek: The Motion Picture",
          "word_count": 28634,
          "year": 1979
         },
         {
          "date": "1980-01-01T00:00:00",
          "gross_ia": 937,
          "imdb_id": "tt0080684",
          "script_id": 3433,
          "source": "http://www.scifiscripts.com/scripts/esb_final.txt",
          "title": "Star Wars: Episode V - The Empire Strikes Back",
          "word_count": 27126,
          "year": 1980
         },
         {
          "date": "1982-01-01T00:00:00",
          "gross_ia": 384,
          "imdb_id": "tt0084434",
          "script_id": 4738,
          "source": "http://www.dailyscript.com/scripts/Officer+And+A+Gentleman,+An.txt",
          "title": "An Officer and a Gentleman",
          "word_count": 25095,
          "year": 1982
         },
         {
          "date": "1983-01-01T00:00:00",
          "gross_ia": 165,
          "imdb_id": "tt0086393",
          "script_id": 5075,
          "source": "http://www.scifiscripts.com/scripts/superman3_script.txt",
          "title": "Superman III",
          "word_count": 42016,
          "year": 1983
         },
         {
          "date": "1984-01-01T00:00:00",
          "gross_ia": 197,
          "imdb_id": "tt0088170",
          "script_id": 5028,
          "source": "http://www.scifiscripts.com/scripts/Trek/Star_Trek_III.htm",
          "title": "Star Trek III: The Search for Spock",
          "word_count": 22726,
          "year": 1984
         },
         {
          "date": "1985-01-01T00:00:00",
          "gross_ia": 37,
          "imdb_id": "tt0089469",
          "script_id": 4515,
          "source": "http://www.angelfire.com/movies/ridleyscott/script/LegendOfDarkness.txt",
          "title": "Legend",
          "word_count": 31530,
          "year": 1985
         },
         {
          "date": "1985-01-01T00:00:00",
          "gross_ia": 81,
          "imdb_id": "tt0090022",
          "script_id": 4960,
          "source": "http://www.dailyscript.com/scripts/Silverado.txt",
          "title": "Silverado",
          "word_count": 30374,
          "year": 1985
         },
         {
          "date": "1986-01-01T00:00:00",
          "gross_ia": 13,
          "imdb_id": "tt0091203",
          "script_id": 2540,
          "source": "http://www.scifiscripts.com/scripts/Highlander_final.txt",
          "title": "Highlander",
          "word_count": 18072,
          "year": 1986
         },
         {
          "date": "1986-01-01T00:00:00",
          "gross_ia": 257,
          "imdb_id": "tt0092007",
          "script_id": 5029,
          "source": "http://www.scifiscripts.com/scripts/Trek/Star_Trek_IV.htm",
          "title": "Star Trek IV: The Voyage Home",
          "word_count": 23489,
          "year": 1986
         },
         {
          "date": "1987-01-01T00:00:00",
          "gross_ia": 34,
          "imdb_id": "tt0094074",
          "script_id": 5076,
          "source": "http://www.scifiscripts.com/scripts/superman_IV.txt",
          "title": "Superman IV: The Quest for Peace",
          "word_count": 25905,
          "year": 1987
         },
         {
          "date": "1989-01-01T00:00:00",
          "gross_ia": 126,
          "imdb_id": "tt0098084",
          "script_id": 3082,
          "source": "http://www.dailyscript.com/scripts/Pet-Sematary.html",
          "title": "Pet Sematary",
          "word_count": 29793,
          "year": 1989
         },
         {
          "date": "1989-01-01T00:00:00",
          "gross_ia": 45,
          "imdb_id": "tt0098258",
          "script_id": 4914,
          "source": "http://www.moviescriptsandscreenplays.com/johncusack/scripts/sayanything.txt",
          "title": "Say Anything...",
          "word_count": 11640,
          "year": 1989
         },
         {
          "date": "1989-01-01T00:00:00",
          "gross_ia": 19,
          "imdb_id": "tt0098524",
          "script_id": 5155,
          "source": "http://www.dailyscript.com/scripts/True%20Believer.txt",
          "title": "True Believer",
          "word_count": 23211,
          "year": 1989
         },
         {
          "date": "1990-01-01T00:00:00",
          "gross_ia": 44,
          "imdb_id": "tt0098987",
          "script_id": 3806,
          "source": "http://www.dailyscript.com/scripts/ford-fairlane_early.html",
          "title": "The Adventures of Ford Fairlane",
          "word_count": 23228,
          "year": 1990
         },
         {
          "date": "1990-01-01T00:00:00",
          "gross_ia": 96,
          "imdb_id": "tt0099685",
          "script_id": 4292,
          "source": "http://www.dailyscript.com/scripts/goodfellas.html",
          "title": "Goodfellas",
          "word_count": 24523,
          "year": 1990
         },
         {
          "date": "1991-01-01T00:00:00",
          "gross_ia": 423,
          "imdb_id": "tt0103064",
          "script_id": 5104,
          "source": "http://www.scifiscripts.com/scripts/t2.txt",
          "title": "Terminator 2: Judgment Day",
          "word_count": 38131,
          "year": 1991
         },
         {
          "date": "1992-01-01T00:00:00",
          "gross_ia": 34,
          "imdb_id": "tt0103893",
          "script_id": 1939,
          "source": "http://www.dailyscript.com/scripts/buffy_the_vampire_slayer.html",
          "title": "Buffy the Vampire Slayer",
          "word_count": 23049,
          "year": 1992
         },
         {
          "date": "1992-01-01T00:00:00",
          "gross_ia": 40,
          "imdb_id": "tt0104412",
          "script_id": 4354,
          "source": "http://www.dailyscript.com/scripts/hero1.html",
          "title": "Hero",
          "word_count": 29312,
          "year": 1992
         },
         {
          "date": "1992-01-01T00:00:00",
          "gross_ia": 1,
          "imdb_id": "tt0104627",
          "script_id": 4487,
          "source": "http://www.scifiscripts.com/msol/Knight_m.txt",
          "title": "Knight Moves",
          "word_count": 23855,
          "year": 1992
         },
         {
          "date": "1992-01-01T00:00:00",
          "gross_ia": 151,
          "imdb_id": "tt0104691",
          "script_id": 4503,
          "source": "http://www.dailyscript.com/scripts/last-of-the-mohicans-script.html",
          "title": "The Last of the Mohicans",
          "word_count": 25216,
          "year": 1992
         },
         {
          "date": "1992-01-01T00:00:00",
          "gross_ia": 8,
          "imdb_id": "tt0105665",
          "script_id": 5166,
          "source": "http://www.dailyscript.com/scripts/Twin+Peaks+-+Fire+Walk+With+Me.txt",
          "title": "Twin Peaks: Fire Walk with Me",
          "word_count": 24038,
          "year": 1992
         },
         {
          "date": "1993-01-01T00:00:00",
          "gross_ia": 176,
          "imdb_id": "tt0106582",
          "script_id": 2027,
          "source": "http://www.dailyscript.com/scripts/cliffhanger_stallone.html",
          "title": "Cliffhanger",
          "word_count": 22260,
          "year": 1993
         },
         {
          "date": "1993-01-01T00:00:00",
          "gross_ia": 5,
          "imdb_id": "tt0107302",
          "script_id": 2697,
          "source": "http://www.dailyscript.com/scripts/Kalifornia.txt",
          "title": "Kalifornia",
          "word_count": 26091,
          "year": 1993
         },
         {
          "date": "1993-01-01T00:00:00",
          "gross_ia": 157,
          "imdb_id": "tt0107688",
          "script_id": 3006,
          "source": "http://www.dailyscript.com/scripts/nightmare-b4-xmas_early.html",
          "title": "The Nightmare Before Christmas",
          "word_count": 16380,
          "year": 1993
         },
         {
          "date": "1994-01-01T00:00:00",
          "gross_ia": 45,
          "imdb_id": "tt0109836",
          "script_id": 4228,
          "source": "http://www.dailyscript.com/scripts/Frankenstein+(1994).txt",
          "title": "Mary Shelley's Frankenstein",
          "word_count": 30003,
          "year": 1994
         },
         {
          "date": "1994-01-01T00:00:00",
          "gross_ia": 67,
          "imdb_id": "tt0110413",
          "script_id": 4519,
          "source": "http://www.scifiscripts.com/msol/LEON.txt",
          "title": "Léon: The Professional",
          "word_count": 13140,
          "year": 1994
         },
         {
          "date": "1994-01-01T00:00:00",
          "gross_ia": 34,
          "imdb_id": "tt0110613",
          "script_id": 4670,
          "source": "http://www.scifiscripts.com/msol/my_girl_2.html",
          "title": "My Girl 2",
          "word_count": 13896,
          "year": 1994
         },
         {
          "date": "1994-01-01T00:00:00",
          "gross_ia": 41,
          "imdb_id": "tt0110737",
          "script_id": 4758,
          "source": "http://www.awesomefilm.com/script/onlyyou.html",
          "title": "Only You",
          "word_count": 22254,
          "year": 1994
         },
         {
          "date": "1995-01-01T00:00:00",
          "gross_ia": 142,
          "imdb_id": "tt0112579",
          "script_id": 280,
          "source": "http://www.awesomefilm.com/script/bomc.txt",
          "title": "The Bridges of Madison County",
          "word_count": 2,
          "year": 1995
         },
         {
          "date": "1995-01-01T00:00:00",
          "gross_ia": 13,
          "imdb_id": "tt0114084",
          "script_id": 4765,
          "source": "http://www.dailyscript.com/scripts/Panther.txt",
          "title": "Panther",
          "word_count": 21480,
          "year": 1995
         },
         {
          "date": "1995-01-01T00:00:00",
          "gross_ia": 16,
          "imdb_id": "tt0114478",
          "script_id": 4976,
          "source": "http://www.awesomefilm.com/script/smoke.txt",
          "title": "Smoke",
          "word_count": 27027,
          "year": 1995
         },
         {
          "date": "1997-01-01T00:00:00",
          "gross_ia": 7,
          "imdb_id": "tt0116922",
          "script_id": 4561,
          "source": "http://www.dailyscript.com/scripts/Lost+Highway.txt",
          "title": "Lost Highway",
          "word_count": 23978,
          "year": 1997
         },
         {
          "date": "1996-01-01T00:00:00",
          "gross_ia": 91,
          "imdb_id": "tt0117509",
          "script_id": 4888,
          "source": "http://www.awesomefilm.com/script/romeo+juliet.txt",
          "title": "Romeo + Juliet",
          "word_count": 20902,
          "year": 1996
         },
         {
          "date": "1996-01-01T00:00:00",
          "gross_ia": 202,
          "imdb_id": "tt0117571",
          "script_id": 4920,
          "source": "http://www.dailyscript.com/scripts/Scream.txt",
          "title": "Scream",
          "word_count": 22065,
          "year": 1996
         },
         {
          "date": "1996-01-01T00:00:00",
          "gross_ia": 181,
          "imdb_id": "tt0117731",
          "script_id": 5036,
          "source": "http://www.scifiscripts.com/scripts/Trek/Star_Trek_VIII.htm",
          "title": "Star Trek: First Contact",
          "word_count": 26755,
          "year": 1996
         },
         {
          "date": "1997-01-01T00:00:00",
          "gross_ia": 144,
          "imdb_id": "tt0118883",
          "script_id": 4039,
          "source": "http://www.dailyscript.com/scripts/conspiracy-theory.html",
          "title": "Conspiracy Theory",
          "word_count": 23511,
          "year": 1997
         },
         {
          "date": "1997-01-01T00:00:00",
          "gross_ia": 48,
          "imdb_id": "tt0119675",
          "script_id": 2918,
          "source": "http://www.dailyscript.com/scripts/mimic_production.html",
          "title": "Mimic",
          "word_count": 21017,
          "year": 1997
         },
         {
          "date": "1996-01-01T00:00:00",
          "gross_ia": 0,
          "imdb_id": "tt0120238",
          "script_id": 5068,
          "source": "http://www.awesomefilm.com/script/suburbia.html",
          "title": "SubUrbia",
          "word_count": 12835,
          "year": 1996
         },
         {
          "date": "1997-01-01T00:00:00",
          "gross_ia": 1249,
          "imdb_id": "tt0120338",
          "script_id": 5136,
          "source": "http://www.dailyscript.com/scripts/Titanic.txt",
          "title": "Titanic",
          "word_count": 43358,
          "year": 1997
         },
         {
          "date": "1997-01-01T00:00:00",
          "gross_ia": 236,
          "imdb_id": "tt0120347",
          "script_id": 3574,
          "source": "http://www.awesomefilm.com/script/tomorrowneverdies.txt",
          "title": "Tomorrow Never Dies",
          "word_count": 32105,
          "year": 1997
         },
         {
          "date": "1999-01-01T00:00:00",
          "gross_ia": 39,
          "imdb_id": "tt0120601",
          "script_id": 1801,
          "source": "http://www.dailyscript.com/scripts/beingjohnmalkovich.html",
          "title": "Being John Malkovich",
          "word_count": 20401,
          "year": 1999
         },
         {
          "date": "1998-01-01T00:00:00",
          "gross_ia": 400,
          "imdb_id": "tt0120815",
          "script_id": 3270,
          "source": "http://www.moviescriptsandscreenplays.com/BenandMatt/savingprivateryan.txt",
          "title": "Saving Private Ryan",
          "word_count": 22228,
          "year": 1998
         },
         {
          "date": "1998-01-01T00:00:00",
          "gross_ia": 130,
          "imdb_id": "tt0120844",
          "script_id": 5037,
          "source": "http://www.scifiscripts.com/scripts/Trek/Star_Trek_IX.htm",
          "title": "Star Trek: Insurrection",
          "word_count": 22136,
          "year": 1998
         },
         {
          "date": "1999-01-01T00:00:00",
          "gross_ia": 19,
          "imdb_id": "tt0163579",
          "script_id": 4010,
          "source": "http://www.awesomefilm.com/script/chillfactor.html",
          "title": "Chill Factor",
          "word_count": 10151,
          "year": 1999
         },
         {
          "date": "2001-01-01T00:00:00",
          "gross_ia": 11,
          "imdb_id": "tt0166110",
          "script_id": 1879,
          "source": "http://www.horrorlair.com/HorrorWorld/newyork/bones.html",
          "title": "Bones",
          "word_count": 28271,
          "year": 2001
         },
         {
          "date": "1999-01-01T00:00:00",
          "gross_ia": 122,
          "imdb_id": "tt0177789",
          "script_id": 4256,
          "source": "http://www.scifiscripts.com/scripts/GalaxyQuest.txt",
          "title": "Galaxy Quest",
          "word_count": 26347,
          "year": 1999
         },
         {
          "date": "2000-01-01T00:00:00",
          "gross_ia": 11,
          "imdb_id": "tt0180073",
          "script_id": 4838,
          "source": "http://www.dailyscript.com/scripts/Quills.txt",
          "title": "Quills",
          "word_count": 27023,
          "year": 2000
         },
         {
          "date": "1999-01-01T00:00:00",
          "gross_ia": 69,
          "imdb_id": "tt0185371",
          "script_id": 4378,
          "source": "http://www.dailyscript.com/scripts/house-on-haunted-hill.html",
          "title": "House on Haunted Hill",
          "word_count": 22249,
          "year": 1999
         },
         {
          "date": "2000-01-01T00:00:00",
          "gross_ia": 203,
          "imdb_id": "tt0195685",
          "script_id": 4169,
          "source": "http://www.dailyscript.com/scripts/Erin+Brockovich.txt",
          "title": "Erin Brockovich",
          "word_count": 28509,
          "year": 2000
         },
         {
          "date": "2000-01-01T00:00:00",
          "gross_ia": 92,
          "imdb_id": "tt0195945",
          "script_id": 2996,
          "source": "http://www.dailyscript.com/scripts/Next_Friday.html",
          "title": "Next Friday",
          "word_count": 15837,
          "year": 2000
         },
         {
          "date": "2000-01-01T00:00:00",
          "gross_ia": 44,
          "imdb_id": "tt0199725",
          "script_id": 2814,
          "source": "http://www.dailyscript.com/scripts/love_and_basketball.html",
          "title": "Love & Basketball",
          "word_count": 20975,
          "year": 2000
         },
         {
          "date": "2001-01-01T00:00:00",
          "gross_ia": 8,
          "imdb_id": "tt0227005",
          "script_id": 4572,
          "source": "http://www.dailyscript.com/scripts/Made.txt",
          "title": "Made",
          "word_count": 17959,
          "year": 2001
         },
         {
          "date": "2001-01-01T00:00:00",
          "gross_ia": 20,
          "imdb_id": "tt0244000",
          "script_id": 1634,
          "source": "http://www.dailyscript.com/scripts/American_Outlaws.html",
          "title": "American Outlaws",
          "word_count": 21116,
          "year": 2001
         },
         {
          "date": "2002-01-01T00:00:00",
          "gross_ia": 64,
          "imdb_id": "tt0253754",
          "script_id": 5038,
          "source": "http://www.scifiscripts.com/scripts/Trek/Star_Trek_X.htm",
          "title": "Star Trek: Nemesis",
          "word_count": 21487,
          "year": 2002
         },
         {
          "date": "2001-01-01T00:00:00",
          "gross_ia": 6,
          "imdb_id": "tt0254099",
          "script_id": 1666,
          "source": "http://www.dailyscript.com/scripts/anniversaryparty.html",
          "title": "The Anniversary Party",
          "word_count": 16529,
          "year": 2001
         },
         {
          "date": "2001-01-01T00:00:00",
          "gross_ia": 109,
          "imdb_id": "tt0257106",
          "script_id": 4918,
          "source": "http://www.dailyscript.com/scripts/Scary+Movie+2.txt",
          "title": "Scary Movie 2",
          "word_count": 22459,
          "year": 2001
         },
         {
          "date": "2003-01-01T00:00:00",
          "gross_ia": 38,
          "imdb_id": "tt0264395",
          "script_id": 1759,
          "source": "http://www.dailyscript.com/scripts/Basic.txt",
          "title": "Basic",
          "word_count": 22329,
          "year": 2003
         },
         {
          "date": "2003-01-01T00:00:00",
          "gross_ia": 67,
          "imdb_id": "tt0309593",
          "script_id": 2294,
          "source": "http://www.dailyscript.com/scripts/final_destination2.html",
          "title": "Final Destination 2",
          "word_count": 23326,
          "year": 2003
         },
         {
          "date": "2003-01-01T00:00:00",
          "gross_ia": 64,
          "imdb_id": "tt0335266",
          "script_id": 2812,
          "source": "http://www.dailyscript.com/scripts/lost-in-translation-script.html",
          "title": "Lost in Translation",
          "word_count": 13337,
          "year": 2003
         },
         {
          "date": "2005-01-01T00:00:00",
          "gross_ia": 8,
          "imdb_id": "tt0366627",
          "script_id": 2651,
          "source": "http://www.dailyscript.com/scripts/The_Jacket.html",
          "title": "The Jacket",
          "word_count": 28127,
          "year": 2005
         },
         {
          "date": "2005-01-01T00:00:00",
          "gross_ia": 42,
          "imdb_id": "tt0372532",
          "script_id": 4992,
          "source": "http://www.dailyscript.com/scripts/somethingborrowed.html",
          "title": "The Wedding Date",
          "word_count": 20706,
          "year": 2005
         },
         {
          "date": "2005-01-01T00:00:00",
          "gross_ia": 13,
          "imdb_id": "tt0421054",
          "script_id": 4121,
          "source": "http://www.dailyscript.com/scripts/domino.html",
          "title": "Domino",
          "word_count": 26862,
          "year": 2005
         }
        ]
       },
       "layer": [
        {
         "encoding": {
          "tooltip": [
           {
            "field": "year",
            "type": "quantitative"
           },
           {
            "field": "word_count",
            "type": "quantitative"
           },
           {
            "field": "title",
            "type": "nominal"
           }
          ],
          "x": {
           "field": "date",
           "type": "temporal"
          },
          "y": {
           "field": "word_count",
           "type": "quantitative"
          }
         },
         "mark": {
          "type": "line"
         },
         "name": "view_21"
        },
        {
         "encoding": {
          "color": {
           "field": "title",
           "legend": null,
           "type": "nominal"
          },
          "tooltip": [
           {
            "field": "year",
            "type": "quantitative"
           },
           {
            "field": "word_count",
            "type": "quantitative"
           },
           {
            "field": "title",
            "type": "nominal"
           }
          ],
          "x": {
           "field": "date",
           "type": "temporal"
          },
          "y": {
           "field": "word_count",
           "type": "quantitative"
          }
         },
         "mark": {
          "type": "circle"
         }
        }
       ],
       "params": [
        {
         "bind": "scales",
         "name": "param_27",
         "select": {
          "encodings": [
           "x",
           "y"
          ],
          "type": "interval"
         },
         "views": [
          "view_21"
         ]
        }
       ],
       "title": "Dialogue Over Time"
      },
      "text/plain": [
       "<VegaLite 5 object>\n",
       "\n",
       "If you see this message, it means the renderer has not been properly enabled\n",
       "for the frontend that you are using. For more information, see\n",
       "https://altair-viz.github.io/user_guide/display_frontends.html#troubleshooting\n"
      ]
     },
     "execution_count": 271,
     "metadata": {},
     "output_type": "execute_result"
    }
   ],
   "source": [
    "lines = alt.Chart(film_scripts_cleaned).mark_line().encode(\n",
    "    x='date:T',\n",
    "    y='word_count:Q',\n",
    "    tooltip=['year', 'word_count', 'title']\n",
    ")\n",
    "\n",
    "points = alt.Chart(film_scripts_cleaned).mark_circle().encode(\n",
    "    x='date:T',\n",
    "    y='word_count:Q',\n",
    "    color=alt.Color('title:N', legend=None),\n",
    "    tooltip=['year', 'word_count', 'title']\n",
    ")\n",
    "\n",
    "chart = lines + points\n",
    "chart.interactive().properties(title='Dialogue Over Time')"
   ]
  },
  {
   "cell_type": "code",
   "execution_count": 272,
   "metadata": {},
   "outputs": [
    {
     "data": {
      "application/vnd.vegalite.v5+json": {
       "$schema": "https://vega.github.io/schema/vega-lite/v5.16.3.json",
       "config": {
        "view": {
         "continuousHeight": 300,
         "continuousWidth": 300
        }
       },
       "data": {
        "name": "data-1c0faf8a0a497ba7b6e97caa6d0d3c04"
       },
       "datasets": {
        "data-1c0faf8a0a497ba7b6e97caa6d0d3c04": [
         {
          "date": "1939-01-01T00:00:00",
          "gross_ia": 45,
          "imdb_id": "tt0031725",
          "script_id": 3016,
          "source": "http://www.dailyscript.com/scripts/Ninotchka.txt",
          "title": "Ninotchka",
          "word_count": 28296,
          "year": 1939
         },
         {
          "date": "1954-01-01T00:00:00",
          "gross_ia": 185,
          "imdb_id": "tt0047296",
          "script_id": 4745,
          "source": "http://www.dailyscript.com/scripts/onthewaterfront.html",
          "title": "On the Waterfront",
          "word_count": 25039,
          "year": 1954
         },
         {
          "date": "1972-01-01T00:00:00",
          "gross_ia": 138,
          "imdb_id": "tt0068638",
          "script_id": 2387,
          "source": "http://www.dailyscript.com/scripts/getaway.html",
          "title": "The Getaway",
          "word_count": 24922,
          "year": 1972
         },
         {
          "date": "1974-01-01T00:00:00",
          "gross_ia": 266,
          "imdb_id": "tt0071562",
          "script_id": 4280,
          "source": "http://www.dailyscript.com/scripts/godfather2.html",
          "title": "The Godfather: Part II",
          "word_count": 41143,
          "year": 1974
         },
         {
          "date": "1975-01-01T00:00:00",
          "gross_ia": 1103,
          "imdb_id": "tt0073195",
          "script_id": 2666,
          "source": "http://www.dailyscript.com/scripts/Jaws.txt",
          "title": "Jaws",
          "word_count": 28073,
          "year": 1975
         },
         {
          "date": "1976-01-01T00:00:00",
          "gross_ia": 102,
          "imdb_id": "tt0074812",
          "script_id": 4543,
          "source": "http://www.dailyscript.com/scripts/Logans+Run.txt",
          "title": "Logan's Run",
          "word_count": 23860,
          "year": 1976
         },
         {
          "date": "1977-01-01T00:00:00",
          "gross_ia": 495,
          "imdb_id": "tt0076729",
          "script_id": 4978,
          "source": "http://www.dailyscript.com/scripts/Smokey%20And%20The%20Bandit.txt",
          "title": "Smokey and the Bandit",
          "word_count": 20835,
          "year": 1977
         },
         {
          "date": "1979-01-01T00:00:00",
          "gross_ia": 285,
          "imdb_id": "tt0079945",
          "script_id": 5025,
          "source": "http://www.dailyscript.com/scripts/startrek01.html",
          "title": "Star Trek: The Motion Picture",
          "word_count": 28634,
          "year": 1979
         },
         {
          "date": "1980-01-01T00:00:00",
          "gross_ia": 937,
          "imdb_id": "tt0080684",
          "script_id": 3433,
          "source": "http://www.scifiscripts.com/scripts/esb_final.txt",
          "title": "Star Wars: Episode V - The Empire Strikes Back",
          "word_count": 27126,
          "year": 1980
         },
         {
          "date": "1982-01-01T00:00:00",
          "gross_ia": 384,
          "imdb_id": "tt0084434",
          "script_id": 4738,
          "source": "http://www.dailyscript.com/scripts/Officer+And+A+Gentleman,+An.txt",
          "title": "An Officer and a Gentleman",
          "word_count": 25095,
          "year": 1982
         },
         {
          "date": "1983-01-01T00:00:00",
          "gross_ia": 165,
          "imdb_id": "tt0086393",
          "script_id": 5075,
          "source": "http://www.scifiscripts.com/scripts/superman3_script.txt",
          "title": "Superman III",
          "word_count": 42016,
          "year": 1983
         },
         {
          "date": "1984-01-01T00:00:00",
          "gross_ia": 197,
          "imdb_id": "tt0088170",
          "script_id": 5028,
          "source": "http://www.scifiscripts.com/scripts/Trek/Star_Trek_III.htm",
          "title": "Star Trek III: The Search for Spock",
          "word_count": 22726,
          "year": 1984
         },
         {
          "date": "1985-01-01T00:00:00",
          "gross_ia": 37,
          "imdb_id": "tt0089469",
          "script_id": 4515,
          "source": "http://www.angelfire.com/movies/ridleyscott/script/LegendOfDarkness.txt",
          "title": "Legend",
          "word_count": 31530,
          "year": 1985
         },
         {
          "date": "1985-01-01T00:00:00",
          "gross_ia": 81,
          "imdb_id": "tt0090022",
          "script_id": 4960,
          "source": "http://www.dailyscript.com/scripts/Silverado.txt",
          "title": "Silverado",
          "word_count": 30374,
          "year": 1985
         },
         {
          "date": "1986-01-01T00:00:00",
          "gross_ia": 13,
          "imdb_id": "tt0091203",
          "script_id": 2540,
          "source": "http://www.scifiscripts.com/scripts/Highlander_final.txt",
          "title": "Highlander",
          "word_count": 18072,
          "year": 1986
         },
         {
          "date": "1986-01-01T00:00:00",
          "gross_ia": 257,
          "imdb_id": "tt0092007",
          "script_id": 5029,
          "source": "http://www.scifiscripts.com/scripts/Trek/Star_Trek_IV.htm",
          "title": "Star Trek IV: The Voyage Home",
          "word_count": 23489,
          "year": 1986
         },
         {
          "date": "1987-01-01T00:00:00",
          "gross_ia": 34,
          "imdb_id": "tt0094074",
          "script_id": 5076,
          "source": "http://www.scifiscripts.com/scripts/superman_IV.txt",
          "title": "Superman IV: The Quest for Peace",
          "word_count": 25905,
          "year": 1987
         },
         {
          "date": "1989-01-01T00:00:00",
          "gross_ia": 126,
          "imdb_id": "tt0098084",
          "script_id": 3082,
          "source": "http://www.dailyscript.com/scripts/Pet-Sematary.html",
          "title": "Pet Sematary",
          "word_count": 29793,
          "year": 1989
         },
         {
          "date": "1989-01-01T00:00:00",
          "gross_ia": 45,
          "imdb_id": "tt0098258",
          "script_id": 4914,
          "source": "http://www.moviescriptsandscreenplays.com/johncusack/scripts/sayanything.txt",
          "title": "Say Anything...",
          "word_count": 11640,
          "year": 1989
         },
         {
          "date": "1989-01-01T00:00:00",
          "gross_ia": 19,
          "imdb_id": "tt0098524",
          "script_id": 5155,
          "source": "http://www.dailyscript.com/scripts/True%20Believer.txt",
          "title": "True Believer",
          "word_count": 23211,
          "year": 1989
         },
         {
          "date": "1990-01-01T00:00:00",
          "gross_ia": 44,
          "imdb_id": "tt0098987",
          "script_id": 3806,
          "source": "http://www.dailyscript.com/scripts/ford-fairlane_early.html",
          "title": "The Adventures of Ford Fairlane",
          "word_count": 23228,
          "year": 1990
         },
         {
          "date": "1990-01-01T00:00:00",
          "gross_ia": 96,
          "imdb_id": "tt0099685",
          "script_id": 4292,
          "source": "http://www.dailyscript.com/scripts/goodfellas.html",
          "title": "Goodfellas",
          "word_count": 24523,
          "year": 1990
         },
         {
          "date": "1991-01-01T00:00:00",
          "gross_ia": 423,
          "imdb_id": "tt0103064",
          "script_id": 5104,
          "source": "http://www.scifiscripts.com/scripts/t2.txt",
          "title": "Terminator 2: Judgment Day",
          "word_count": 38131,
          "year": 1991
         },
         {
          "date": "1992-01-01T00:00:00",
          "gross_ia": 34,
          "imdb_id": "tt0103893",
          "script_id": 1939,
          "source": "http://www.dailyscript.com/scripts/buffy_the_vampire_slayer.html",
          "title": "Buffy the Vampire Slayer",
          "word_count": 23049,
          "year": 1992
         },
         {
          "date": "1992-01-01T00:00:00",
          "gross_ia": 40,
          "imdb_id": "tt0104412",
          "script_id": 4354,
          "source": "http://www.dailyscript.com/scripts/hero1.html",
          "title": "Hero",
          "word_count": 29312,
          "year": 1992
         },
         {
          "date": "1992-01-01T00:00:00",
          "gross_ia": 1,
          "imdb_id": "tt0104627",
          "script_id": 4487,
          "source": "http://www.scifiscripts.com/msol/Knight_m.txt",
          "title": "Knight Moves",
          "word_count": 23855,
          "year": 1992
         },
         {
          "date": "1992-01-01T00:00:00",
          "gross_ia": 151,
          "imdb_id": "tt0104691",
          "script_id": 4503,
          "source": "http://www.dailyscript.com/scripts/last-of-the-mohicans-script.html",
          "title": "The Last of the Mohicans",
          "word_count": 25216,
          "year": 1992
         },
         {
          "date": "1992-01-01T00:00:00",
          "gross_ia": 8,
          "imdb_id": "tt0105665",
          "script_id": 5166,
          "source": "http://www.dailyscript.com/scripts/Twin+Peaks+-+Fire+Walk+With+Me.txt",
          "title": "Twin Peaks: Fire Walk with Me",
          "word_count": 24038,
          "year": 1992
         },
         {
          "date": "1993-01-01T00:00:00",
          "gross_ia": 176,
          "imdb_id": "tt0106582",
          "script_id": 2027,
          "source": "http://www.dailyscript.com/scripts/cliffhanger_stallone.html",
          "title": "Cliffhanger",
          "word_count": 22260,
          "year": 1993
         },
         {
          "date": "1993-01-01T00:00:00",
          "gross_ia": 5,
          "imdb_id": "tt0107302",
          "script_id": 2697,
          "source": "http://www.dailyscript.com/scripts/Kalifornia.txt",
          "title": "Kalifornia",
          "word_count": 26091,
          "year": 1993
         },
         {
          "date": "1993-01-01T00:00:00",
          "gross_ia": 157,
          "imdb_id": "tt0107688",
          "script_id": 3006,
          "source": "http://www.dailyscript.com/scripts/nightmare-b4-xmas_early.html",
          "title": "The Nightmare Before Christmas",
          "word_count": 16380,
          "year": 1993
         },
         {
          "date": "1994-01-01T00:00:00",
          "gross_ia": 45,
          "imdb_id": "tt0109836",
          "script_id": 4228,
          "source": "http://www.dailyscript.com/scripts/Frankenstein+(1994).txt",
          "title": "Mary Shelley's Frankenstein",
          "word_count": 30003,
          "year": 1994
         },
         {
          "date": "1994-01-01T00:00:00",
          "gross_ia": 67,
          "imdb_id": "tt0110413",
          "script_id": 4519,
          "source": "http://www.scifiscripts.com/msol/LEON.txt",
          "title": "Léon: The Professional",
          "word_count": 13140,
          "year": 1994
         },
         {
          "date": "1994-01-01T00:00:00",
          "gross_ia": 34,
          "imdb_id": "tt0110613",
          "script_id": 4670,
          "source": "http://www.scifiscripts.com/msol/my_girl_2.html",
          "title": "My Girl 2",
          "word_count": 13896,
          "year": 1994
         },
         {
          "date": "1994-01-01T00:00:00",
          "gross_ia": 41,
          "imdb_id": "tt0110737",
          "script_id": 4758,
          "source": "http://www.awesomefilm.com/script/onlyyou.html",
          "title": "Only You",
          "word_count": 22254,
          "year": 1994
         },
         {
          "date": "1995-01-01T00:00:00",
          "gross_ia": 142,
          "imdb_id": "tt0112579",
          "script_id": 280,
          "source": "http://www.awesomefilm.com/script/bomc.txt",
          "title": "The Bridges of Madison County",
          "word_count": 2,
          "year": 1995
         },
         {
          "date": "1995-01-01T00:00:00",
          "gross_ia": 13,
          "imdb_id": "tt0114084",
          "script_id": 4765,
          "source": "http://www.dailyscript.com/scripts/Panther.txt",
          "title": "Panther",
          "word_count": 21480,
          "year": 1995
         },
         {
          "date": "1995-01-01T00:00:00",
          "gross_ia": 16,
          "imdb_id": "tt0114478",
          "script_id": 4976,
          "source": "http://www.awesomefilm.com/script/smoke.txt",
          "title": "Smoke",
          "word_count": 27027,
          "year": 1995
         },
         {
          "date": "1997-01-01T00:00:00",
          "gross_ia": 7,
          "imdb_id": "tt0116922",
          "script_id": 4561,
          "source": "http://www.dailyscript.com/scripts/Lost+Highway.txt",
          "title": "Lost Highway",
          "word_count": 23978,
          "year": 1997
         },
         {
          "date": "1996-01-01T00:00:00",
          "gross_ia": 91,
          "imdb_id": "tt0117509",
          "script_id": 4888,
          "source": "http://www.awesomefilm.com/script/romeo+juliet.txt",
          "title": "Romeo + Juliet",
          "word_count": 20902,
          "year": 1996
         },
         {
          "date": "1996-01-01T00:00:00",
          "gross_ia": 202,
          "imdb_id": "tt0117571",
          "script_id": 4920,
          "source": "http://www.dailyscript.com/scripts/Scream.txt",
          "title": "Scream",
          "word_count": 22065,
          "year": 1996
         },
         {
          "date": "1996-01-01T00:00:00",
          "gross_ia": 181,
          "imdb_id": "tt0117731",
          "script_id": 5036,
          "source": "http://www.scifiscripts.com/scripts/Trek/Star_Trek_VIII.htm",
          "title": "Star Trek: First Contact",
          "word_count": 26755,
          "year": 1996
         },
         {
          "date": "1997-01-01T00:00:00",
          "gross_ia": 144,
          "imdb_id": "tt0118883",
          "script_id": 4039,
          "source": "http://www.dailyscript.com/scripts/conspiracy-theory.html",
          "title": "Conspiracy Theory",
          "word_count": 23511,
          "year": 1997
         },
         {
          "date": "1997-01-01T00:00:00",
          "gross_ia": 48,
          "imdb_id": "tt0119675",
          "script_id": 2918,
          "source": "http://www.dailyscript.com/scripts/mimic_production.html",
          "title": "Mimic",
          "word_count": 21017,
          "year": 1997
         },
         {
          "date": "1996-01-01T00:00:00",
          "gross_ia": 0,
          "imdb_id": "tt0120238",
          "script_id": 5068,
          "source": "http://www.awesomefilm.com/script/suburbia.html",
          "title": "SubUrbia",
          "word_count": 12835,
          "year": 1996
         },
         {
          "date": "1997-01-01T00:00:00",
          "gross_ia": 1249,
          "imdb_id": "tt0120338",
          "script_id": 5136,
          "source": "http://www.dailyscript.com/scripts/Titanic.txt",
          "title": "Titanic",
          "word_count": 43358,
          "year": 1997
         },
         {
          "date": "1997-01-01T00:00:00",
          "gross_ia": 236,
          "imdb_id": "tt0120347",
          "script_id": 3574,
          "source": "http://www.awesomefilm.com/script/tomorrowneverdies.txt",
          "title": "Tomorrow Never Dies",
          "word_count": 32105,
          "year": 1997
         },
         {
          "date": "1999-01-01T00:00:00",
          "gross_ia": 39,
          "imdb_id": "tt0120601",
          "script_id": 1801,
          "source": "http://www.dailyscript.com/scripts/beingjohnmalkovich.html",
          "title": "Being John Malkovich",
          "word_count": 20401,
          "year": 1999
         },
         {
          "date": "1998-01-01T00:00:00",
          "gross_ia": 400,
          "imdb_id": "tt0120815",
          "script_id": 3270,
          "source": "http://www.moviescriptsandscreenplays.com/BenandMatt/savingprivateryan.txt",
          "title": "Saving Private Ryan",
          "word_count": 22228,
          "year": 1998
         },
         {
          "date": "1998-01-01T00:00:00",
          "gross_ia": 130,
          "imdb_id": "tt0120844",
          "script_id": 5037,
          "source": "http://www.scifiscripts.com/scripts/Trek/Star_Trek_IX.htm",
          "title": "Star Trek: Insurrection",
          "word_count": 22136,
          "year": 1998
         },
         {
          "date": "1999-01-01T00:00:00",
          "gross_ia": 19,
          "imdb_id": "tt0163579",
          "script_id": 4010,
          "source": "http://www.awesomefilm.com/script/chillfactor.html",
          "title": "Chill Factor",
          "word_count": 10151,
          "year": 1999
         },
         {
          "date": "2001-01-01T00:00:00",
          "gross_ia": 11,
          "imdb_id": "tt0166110",
          "script_id": 1879,
          "source": "http://www.horrorlair.com/HorrorWorld/newyork/bones.html",
          "title": "Bones",
          "word_count": 28271,
          "year": 2001
         },
         {
          "date": "1999-01-01T00:00:00",
          "gross_ia": 122,
          "imdb_id": "tt0177789",
          "script_id": 4256,
          "source": "http://www.scifiscripts.com/scripts/GalaxyQuest.txt",
          "title": "Galaxy Quest",
          "word_count": 26347,
          "year": 1999
         },
         {
          "date": "2000-01-01T00:00:00",
          "gross_ia": 11,
          "imdb_id": "tt0180073",
          "script_id": 4838,
          "source": "http://www.dailyscript.com/scripts/Quills.txt",
          "title": "Quills",
          "word_count": 27023,
          "year": 2000
         },
         {
          "date": "1999-01-01T00:00:00",
          "gross_ia": 69,
          "imdb_id": "tt0185371",
          "script_id": 4378,
          "source": "http://www.dailyscript.com/scripts/house-on-haunted-hill.html",
          "title": "House on Haunted Hill",
          "word_count": 22249,
          "year": 1999
         },
         {
          "date": "2000-01-01T00:00:00",
          "gross_ia": 203,
          "imdb_id": "tt0195685",
          "script_id": 4169,
          "source": "http://www.dailyscript.com/scripts/Erin+Brockovich.txt",
          "title": "Erin Brockovich",
          "word_count": 28509,
          "year": 2000
         },
         {
          "date": "2000-01-01T00:00:00",
          "gross_ia": 92,
          "imdb_id": "tt0195945",
          "script_id": 2996,
          "source": "http://www.dailyscript.com/scripts/Next_Friday.html",
          "title": "Next Friday",
          "word_count": 15837,
          "year": 2000
         },
         {
          "date": "2000-01-01T00:00:00",
          "gross_ia": 44,
          "imdb_id": "tt0199725",
          "script_id": 2814,
          "source": "http://www.dailyscript.com/scripts/love_and_basketball.html",
          "title": "Love & Basketball",
          "word_count": 20975,
          "year": 2000
         },
         {
          "date": "2001-01-01T00:00:00",
          "gross_ia": 8,
          "imdb_id": "tt0227005",
          "script_id": 4572,
          "source": "http://www.dailyscript.com/scripts/Made.txt",
          "title": "Made",
          "word_count": 17959,
          "year": 2001
         },
         {
          "date": "2001-01-01T00:00:00",
          "gross_ia": 20,
          "imdb_id": "tt0244000",
          "script_id": 1634,
          "source": "http://www.dailyscript.com/scripts/American_Outlaws.html",
          "title": "American Outlaws",
          "word_count": 21116,
          "year": 2001
         },
         {
          "date": "2002-01-01T00:00:00",
          "gross_ia": 64,
          "imdb_id": "tt0253754",
          "script_id": 5038,
          "source": "http://www.scifiscripts.com/scripts/Trek/Star_Trek_X.htm",
          "title": "Star Trek: Nemesis",
          "word_count": 21487,
          "year": 2002
         },
         {
          "date": "2001-01-01T00:00:00",
          "gross_ia": 6,
          "imdb_id": "tt0254099",
          "script_id": 1666,
          "source": "http://www.dailyscript.com/scripts/anniversaryparty.html",
          "title": "The Anniversary Party",
          "word_count": 16529,
          "year": 2001
         },
         {
          "date": "2001-01-01T00:00:00",
          "gross_ia": 109,
          "imdb_id": "tt0257106",
          "script_id": 4918,
          "source": "http://www.dailyscript.com/scripts/Scary+Movie+2.txt",
          "title": "Scary Movie 2",
          "word_count": 22459,
          "year": 2001
         },
         {
          "date": "2003-01-01T00:00:00",
          "gross_ia": 38,
          "imdb_id": "tt0264395",
          "script_id": 1759,
          "source": "http://www.dailyscript.com/scripts/Basic.txt",
          "title": "Basic",
          "word_count": 22329,
          "year": 2003
         },
         {
          "date": "2003-01-01T00:00:00",
          "gross_ia": 67,
          "imdb_id": "tt0309593",
          "script_id": 2294,
          "source": "http://www.dailyscript.com/scripts/final_destination2.html",
          "title": "Final Destination 2",
          "word_count": 23326,
          "year": 2003
         },
         {
          "date": "2003-01-01T00:00:00",
          "gross_ia": 64,
          "imdb_id": "tt0335266",
          "script_id": 2812,
          "source": "http://www.dailyscript.com/scripts/lost-in-translation-script.html",
          "title": "Lost in Translation",
          "word_count": 13337,
          "year": 2003
         },
         {
          "date": "2005-01-01T00:00:00",
          "gross_ia": 8,
          "imdb_id": "tt0366627",
          "script_id": 2651,
          "source": "http://www.dailyscript.com/scripts/The_Jacket.html",
          "title": "The Jacket",
          "word_count": 28127,
          "year": 2005
         },
         {
          "date": "2005-01-01T00:00:00",
          "gross_ia": 42,
          "imdb_id": "tt0372532",
          "script_id": 4992,
          "source": "http://www.dailyscript.com/scripts/somethingborrowed.html",
          "title": "The Wedding Date",
          "word_count": 20706,
          "year": 2005
         },
         {
          "date": "2005-01-01T00:00:00",
          "gross_ia": 13,
          "imdb_id": "tt0421054",
          "script_id": 4121,
          "source": "http://www.dailyscript.com/scripts/domino.html",
          "title": "Domino",
          "word_count": 26862,
          "year": 2005
         }
        ]
       },
       "layer": [
        {
         "encoding": {
          "tooltip": [
           {
            "field": "gross_ia",
            "type": "quantitative"
           },
           {
            "field": "word_count",
            "type": "quantitative"
           },
           {
            "field": "title",
            "type": "nominal"
           }
          ],
          "x": {
           "field": "word_count",
           "type": "quantitative"
          },
          "y": {
           "field": "gross_ia",
           "type": "quantitative"
          }
         },
         "mark": {
          "type": "line"
         },
         "name": "view_22"
        },
        {
         "encoding": {
          "color": {
           "field": "title",
           "legend": null,
           "type": "nominal"
          },
          "tooltip": [
           {
            "field": "gross_ia",
            "type": "quantitative"
           },
           {
            "field": "word_count",
            "type": "quantitative"
           },
           {
            "field": "title",
            "type": "nominal"
           }
          ],
          "x": {
           "field": "word_count",
           "type": "quantitative"
          },
          "y": {
           "field": "gross_ia",
           "type": "quantitative"
          }
         },
         "mark": {
          "type": "circle"
         }
        }
       ],
       "params": [
        {
         "bind": "scales",
         "name": "param_28",
         "select": {
          "encodings": [
           "x",
           "y"
          ],
          "type": "interval"
         },
         "views": [
          "view_22"
         ]
        }
       ],
       "title": "Dialogue vs gross (inflation-adjusted)"
      },
      "text/plain": [
       "<VegaLite 5 object>\n",
       "\n",
       "If you see this message, it means the renderer has not been properly enabled\n",
       "for the frontend that you are using. For more information, see\n",
       "https://altair-viz.github.io/user_guide/display_frontends.html#troubleshooting\n"
      ]
     },
     "execution_count": 272,
     "metadata": {},
     "output_type": "execute_result"
    }
   ],
   "source": [
    "lines1 = alt.Chart(film_scripts_cleaned).mark_line().encode(\n",
    "    x='word_count:Q',\n",
    "    y='gross_ia:Q',\n",
    "    tooltip=['gross_ia', 'word_count', 'title']\n",
    ")\n",
    "\n",
    "points1 = alt.Chart(film_scripts_cleaned).mark_circle().encode(\n",
    "    x='word_count:Q',\n",
    "    y='gross_ia:Q',\n",
    "    color=alt.Color('title:N', legend=None),\n",
    "    tooltip=['gross_ia', 'word_count', 'title']\n",
    ")\n",
    "\n",
    "chart1 = lines1 + points1\n",
    "chart1.interactive().properties(title='Dialogue vs gross (inflation-adjusted)')"
   ]
  },
  {
   "cell_type": "markdown",
   "metadata": {},
   "source": [
    "### Reading the Matthew Daniels Github Dataset "
   ]
  },
  {
   "cell_type": "code",
   "execution_count": 273,
   "metadata": {},
   "outputs": [
    {
     "data": {
      "text/html": [
       "<div>\n",
       "<style scoped>\n",
       "    .dataframe tbody tr th:only-of-type {\n",
       "        vertical-align: middle;\n",
       "    }\n",
       "\n",
       "    .dataframe tbody tr th {\n",
       "        vertical-align: top;\n",
       "    }\n",
       "\n",
       "    .dataframe thead th {\n",
       "        text-align: right;\n",
       "    }\n",
       "</style>\n",
       "<table border=\"1\" class=\"dataframe\">\n",
       "  <thead>\n",
       "    <tr style=\"text-align: right;\">\n",
       "      <th></th>\n",
       "      <th>script_id</th>\n",
       "      <th>imdb_character_name</th>\n",
       "      <th>words</th>\n",
       "      <th>gender</th>\n",
       "      <th>age</th>\n",
       "      <th>imdb_id</th>\n",
       "      <th>title</th>\n",
       "      <th>year</th>\n",
       "      <th>gross</th>\n",
       "      <th>lines_data</th>\n",
       "    </tr>\n",
       "  </thead>\n",
       "  <tbody>\n",
       "    <tr>\n",
       "      <th>0</th>\n",
       "      <td>280</td>\n",
       "      <td>betty</td>\n",
       "      <td>311</td>\n",
       "      <td>f</td>\n",
       "      <td>35.0</td>\n",
       "      <td>tt0112579</td>\n",
       "      <td>The Bridges of Madison County</td>\n",
       "      <td>1995</td>\n",
       "      <td>142.0</td>\n",
       "      <td>4332023434343443203433434334433434343434434344...</td>\n",
       "    </tr>\n",
       "    <tr>\n",
       "      <th>1</th>\n",
       "      <td>280</td>\n",
       "      <td>carolyn johnson</td>\n",
       "      <td>873</td>\n",
       "      <td>f</td>\n",
       "      <td>NaN</td>\n",
       "      <td>tt0112579</td>\n",
       "      <td>The Bridges of Madison County</td>\n",
       "      <td>1995</td>\n",
       "      <td>142.0</td>\n",
       "      <td>4332023434343443203433434334433434343434434344...</td>\n",
       "    </tr>\n",
       "    <tr>\n",
       "      <th>2</th>\n",
       "      <td>280</td>\n",
       "      <td>eleanor</td>\n",
       "      <td>138</td>\n",
       "      <td>f</td>\n",
       "      <td>NaN</td>\n",
       "      <td>tt0112579</td>\n",
       "      <td>The Bridges of Madison County</td>\n",
       "      <td>1995</td>\n",
       "      <td>142.0</td>\n",
       "      <td>4332023434343443203433434334433434343434434344...</td>\n",
       "    </tr>\n",
       "    <tr>\n",
       "      <th>3</th>\n",
       "      <td>280</td>\n",
       "      <td>francesca johns</td>\n",
       "      <td>2251</td>\n",
       "      <td>f</td>\n",
       "      <td>46.0</td>\n",
       "      <td>tt0112579</td>\n",
       "      <td>The Bridges of Madison County</td>\n",
       "      <td>1995</td>\n",
       "      <td>142.0</td>\n",
       "      <td>4332023434343443203433434334433434343434434344...</td>\n",
       "    </tr>\n",
       "    <tr>\n",
       "      <th>4</th>\n",
       "      <td>280</td>\n",
       "      <td>madge</td>\n",
       "      <td>190</td>\n",
       "      <td>f</td>\n",
       "      <td>46.0</td>\n",
       "      <td>tt0112579</td>\n",
       "      <td>The Bridges of Madison County</td>\n",
       "      <td>1995</td>\n",
       "      <td>142.0</td>\n",
       "      <td>4332023434343443203433434334433434343434434344...</td>\n",
       "    </tr>\n",
       "    <tr>\n",
       "      <th>...</th>\n",
       "      <td>...</td>\n",
       "      <td>...</td>\n",
       "      <td>...</td>\n",
       "      <td>...</td>\n",
       "      <td>...</td>\n",
       "      <td>...</td>\n",
       "      <td>...</td>\n",
       "      <td>...</td>\n",
       "      <td>...</td>\n",
       "      <td>...</td>\n",
       "    </tr>\n",
       "    <tr>\n",
       "      <th>23043</th>\n",
       "      <td>9254</td>\n",
       "      <td>lumiere</td>\n",
       "      <td>1063</td>\n",
       "      <td>m</td>\n",
       "      <td>56.0</td>\n",
       "      <td>tt0101414</td>\n",
       "      <td>Beauty and the Beast</td>\n",
       "      <td>1991</td>\n",
       "      <td>452.0</td>\n",
       "      <td>3245753334377767774433634446467677732244465553...</td>\n",
       "    </tr>\n",
       "    <tr>\n",
       "      <th>23044</th>\n",
       "      <td>9254</td>\n",
       "      <td>maurice</td>\n",
       "      <td>1107</td>\n",
       "      <td>m</td>\n",
       "      <td>71.0</td>\n",
       "      <td>tt0101414</td>\n",
       "      <td>Beauty and the Beast</td>\n",
       "      <td>1991</td>\n",
       "      <td>452.0</td>\n",
       "      <td>3245753334377767774433634446467677732244465553...</td>\n",
       "    </tr>\n",
       "    <tr>\n",
       "      <th>23045</th>\n",
       "      <td>9254</td>\n",
       "      <td>monsieur d'arqu</td>\n",
       "      <td>114</td>\n",
       "      <td>m</td>\n",
       "      <td>58.0</td>\n",
       "      <td>tt0101414</td>\n",
       "      <td>Beauty and the Beast</td>\n",
       "      <td>1991</td>\n",
       "      <td>452.0</td>\n",
       "      <td>3245753334377767774433634446467677732244465553...</td>\n",
       "    </tr>\n",
       "    <tr>\n",
       "      <th>23046</th>\n",
       "      <td>9254</td>\n",
       "      <td>mrs. potts</td>\n",
       "      <td>564</td>\n",
       "      <td>f</td>\n",
       "      <td>66.0</td>\n",
       "      <td>tt0101414</td>\n",
       "      <td>Beauty and the Beast</td>\n",
       "      <td>1991</td>\n",
       "      <td>452.0</td>\n",
       "      <td>3245753334377767774433634446467677732244465553...</td>\n",
       "    </tr>\n",
       "    <tr>\n",
       "      <th>23047</th>\n",
       "      <td>9254</td>\n",
       "      <td>wardrobe</td>\n",
       "      <td>121</td>\n",
       "      <td>f</td>\n",
       "      <td>54.0</td>\n",
       "      <td>tt0101414</td>\n",
       "      <td>Beauty and the Beast</td>\n",
       "      <td>1991</td>\n",
       "      <td>452.0</td>\n",
       "      <td>3245753334377767774433634446467677732244465553...</td>\n",
       "    </tr>\n",
       "  </tbody>\n",
       "</table>\n",
       "<p>23048 rows × 10 columns</p>\n",
       "</div>"
      ],
      "text/plain": [
       "       script_id imdb_character_name  words gender   age    imdb_id  \\\n",
       "0            280               betty    311      f  35.0  tt0112579   \n",
       "1            280     carolyn johnson    873      f   NaN  tt0112579   \n",
       "2            280             eleanor    138      f   NaN  tt0112579   \n",
       "3            280     francesca johns   2251      f  46.0  tt0112579   \n",
       "4            280               madge    190      f  46.0  tt0112579   \n",
       "...          ...                 ...    ...    ...   ...        ...   \n",
       "23043       9254             lumiere   1063      m  56.0  tt0101414   \n",
       "23044       9254             maurice   1107      m  71.0  tt0101414   \n",
       "23045       9254     monsieur d'arqu    114      m  58.0  tt0101414   \n",
       "23046       9254          mrs. potts    564      f  66.0  tt0101414   \n",
       "23047       9254            wardrobe    121      f  54.0  tt0101414   \n",
       "\n",
       "                               title  year  gross  \\\n",
       "0      The Bridges of Madison County  1995  142.0   \n",
       "1      The Bridges of Madison County  1995  142.0   \n",
       "2      The Bridges of Madison County  1995  142.0   \n",
       "3      The Bridges of Madison County  1995  142.0   \n",
       "4      The Bridges of Madison County  1995  142.0   \n",
       "...                              ...   ...    ...   \n",
       "23043           Beauty and the Beast  1991  452.0   \n",
       "23044           Beauty and the Beast  1991  452.0   \n",
       "23045           Beauty and the Beast  1991  452.0   \n",
       "23046           Beauty and the Beast  1991  452.0   \n",
       "23047           Beauty and the Beast  1991  452.0   \n",
       "\n",
       "                                              lines_data  \n",
       "0      4332023434343443203433434334433434343434434344...  \n",
       "1      4332023434343443203433434334433434343434434344...  \n",
       "2      4332023434343443203433434334433434343434434344...  \n",
       "3      4332023434343443203433434334433434343434434344...  \n",
       "4      4332023434343443203433434334433434343434434344...  \n",
       "...                                                  ...  \n",
       "23043  3245753334377767774433634446467677732244465553...  \n",
       "23044  3245753334377767774433634446467677732244465553...  \n",
       "23045  3245753334377767774433634446467677732244465553...  \n",
       "23046  3245753334377767774433634446467677732244465553...  \n",
       "23047  3245753334377767774433634446467677732244465553...  \n",
       "\n",
       "[23048 rows x 10 columns]"
      ]
     },
     "execution_count": 273,
     "metadata": {},
     "output_type": "execute_result"
    }
   ],
   "source": [
    "character_list_df = pd.read_csv('character_list5.csv', encoding='ISO-8859-1')\n",
    "character_mapping_df = pd.read_csv('character_mapping.csv', encoding='ISO-8859-1')\n",
    "metaddata_df = pd.read_csv('meta_data7.csv', encoding='ISO-8859-1')\n",
    "dialogue_df = pd.merge(character_list_df, metaddata_df, on='script_id', how=\"inner\")\n",
    "dialogue_df"
   ]
  },
  {
   "cell_type": "code",
   "execution_count": 274,
   "metadata": {},
   "outputs": [
    {
     "data": {
      "text/plain": [
       "script_id                 0\n",
       "imdb_character_name       2\n",
       "words                     0\n",
       "gender                    0\n",
       "age                    4785\n",
       "imdb_id                   0\n",
       "title                     0\n",
       "year                      0\n",
       "gross                  3661\n",
       "lines_data                0\n",
       "dtype: int64"
      ]
     },
     "execution_count": 274,
     "metadata": {},
     "output_type": "execute_result"
    }
   ],
   "source": [
    "dialogue_df.isna().sum()"
   ]
  },
  {
   "cell_type": "markdown",
   "metadata": {},
   "source": [
    "### dropping Nan Value (excluding the Nan value from imdb_character_name since it won't affect our analysis)"
   ]
  },
  {
   "cell_type": "code",
   "execution_count": 276,
   "metadata": {},
   "outputs": [
    {
     "data": {
      "text/html": [
       "<div>\n",
       "<style scoped>\n",
       "    .dataframe tbody tr th:only-of-type {\n",
       "        vertical-align: middle;\n",
       "    }\n",
       "\n",
       "    .dataframe tbody tr th {\n",
       "        vertical-align: top;\n",
       "    }\n",
       "\n",
       "    .dataframe thead th {\n",
       "        text-align: right;\n",
       "    }\n",
       "</style>\n",
       "<table border=\"1\" class=\"dataframe\">\n",
       "  <thead>\n",
       "    <tr style=\"text-align: right;\">\n",
       "      <th></th>\n",
       "      <th>script_id</th>\n",
       "      <th>imdb_character_name</th>\n",
       "      <th>words</th>\n",
       "      <th>gender</th>\n",
       "      <th>age</th>\n",
       "      <th>imdb_id</th>\n",
       "      <th>title</th>\n",
       "      <th>year</th>\n",
       "      <th>gross</th>\n",
       "      <th>lines_data</th>\n",
       "    </tr>\n",
       "  </thead>\n",
       "  <tbody>\n",
       "    <tr>\n",
       "      <th>0</th>\n",
       "      <td>280</td>\n",
       "      <td>betty</td>\n",
       "      <td>311</td>\n",
       "      <td>f</td>\n",
       "      <td>35.0</td>\n",
       "      <td>tt0112579</td>\n",
       "      <td>The Bridges of Madison County</td>\n",
       "      <td>1995</td>\n",
       "      <td>142.0</td>\n",
       "      <td>4332023434343443203433434334433434343434434344...</td>\n",
       "    </tr>\n",
       "    <tr>\n",
       "      <th>3</th>\n",
       "      <td>280</td>\n",
       "      <td>francesca johns</td>\n",
       "      <td>2251</td>\n",
       "      <td>f</td>\n",
       "      <td>46.0</td>\n",
       "      <td>tt0112579</td>\n",
       "      <td>The Bridges of Madison County</td>\n",
       "      <td>1995</td>\n",
       "      <td>142.0</td>\n",
       "      <td>4332023434343443203433434334433434343434434344...</td>\n",
       "    </tr>\n",
       "    <tr>\n",
       "      <th>4</th>\n",
       "      <td>280</td>\n",
       "      <td>madge</td>\n",
       "      <td>190</td>\n",
       "      <td>f</td>\n",
       "      <td>46.0</td>\n",
       "      <td>tt0112579</td>\n",
       "      <td>The Bridges of Madison County</td>\n",
       "      <td>1995</td>\n",
       "      <td>142.0</td>\n",
       "      <td>4332023434343443203433434334433434343434434344...</td>\n",
       "    </tr>\n",
       "    <tr>\n",
       "      <th>5</th>\n",
       "      <td>280</td>\n",
       "      <td>michael johnson</td>\n",
       "      <td>723</td>\n",
       "      <td>m</td>\n",
       "      <td>38.0</td>\n",
       "      <td>tt0112579</td>\n",
       "      <td>The Bridges of Madison County</td>\n",
       "      <td>1995</td>\n",
       "      <td>142.0</td>\n",
       "      <td>4332023434343443203433434334433434343434434344...</td>\n",
       "    </tr>\n",
       "    <tr>\n",
       "      <th>6</th>\n",
       "      <td>280</td>\n",
       "      <td>robert kincaid</td>\n",
       "      <td>1908</td>\n",
       "      <td>m</td>\n",
       "      <td>65.0</td>\n",
       "      <td>tt0112579</td>\n",
       "      <td>The Bridges of Madison County</td>\n",
       "      <td>1995</td>\n",
       "      <td>142.0</td>\n",
       "      <td>4332023434343443203433434334433434343434434344...</td>\n",
       "    </tr>\n",
       "    <tr>\n",
       "      <th>...</th>\n",
       "      <td>...</td>\n",
       "      <td>...</td>\n",
       "      <td>...</td>\n",
       "      <td>...</td>\n",
       "      <td>...</td>\n",
       "      <td>...</td>\n",
       "      <td>...</td>\n",
       "      <td>...</td>\n",
       "      <td>...</td>\n",
       "      <td>...</td>\n",
       "    </tr>\n",
       "    <tr>\n",
       "      <th>23043</th>\n",
       "      <td>9254</td>\n",
       "      <td>lumiere</td>\n",
       "      <td>1063</td>\n",
       "      <td>m</td>\n",
       "      <td>56.0</td>\n",
       "      <td>tt0101414</td>\n",
       "      <td>Beauty and the Beast</td>\n",
       "      <td>1991</td>\n",
       "      <td>452.0</td>\n",
       "      <td>3245753334377767774433634446467677732244465553...</td>\n",
       "    </tr>\n",
       "    <tr>\n",
       "      <th>23044</th>\n",
       "      <td>9254</td>\n",
       "      <td>maurice</td>\n",
       "      <td>1107</td>\n",
       "      <td>m</td>\n",
       "      <td>71.0</td>\n",
       "      <td>tt0101414</td>\n",
       "      <td>Beauty and the Beast</td>\n",
       "      <td>1991</td>\n",
       "      <td>452.0</td>\n",
       "      <td>3245753334377767774433634446467677732244465553...</td>\n",
       "    </tr>\n",
       "    <tr>\n",
       "      <th>23045</th>\n",
       "      <td>9254</td>\n",
       "      <td>monsieur d'arqu</td>\n",
       "      <td>114</td>\n",
       "      <td>m</td>\n",
       "      <td>58.0</td>\n",
       "      <td>tt0101414</td>\n",
       "      <td>Beauty and the Beast</td>\n",
       "      <td>1991</td>\n",
       "      <td>452.0</td>\n",
       "      <td>3245753334377767774433634446467677732244465553...</td>\n",
       "    </tr>\n",
       "    <tr>\n",
       "      <th>23046</th>\n",
       "      <td>9254</td>\n",
       "      <td>mrs. potts</td>\n",
       "      <td>564</td>\n",
       "      <td>f</td>\n",
       "      <td>66.0</td>\n",
       "      <td>tt0101414</td>\n",
       "      <td>Beauty and the Beast</td>\n",
       "      <td>1991</td>\n",
       "      <td>452.0</td>\n",
       "      <td>3245753334377767774433634446467677732244465553...</td>\n",
       "    </tr>\n",
       "    <tr>\n",
       "      <th>23047</th>\n",
       "      <td>9254</td>\n",
       "      <td>wardrobe</td>\n",
       "      <td>121</td>\n",
       "      <td>f</td>\n",
       "      <td>54.0</td>\n",
       "      <td>tt0101414</td>\n",
       "      <td>Beauty and the Beast</td>\n",
       "      <td>1991</td>\n",
       "      <td>452.0</td>\n",
       "      <td>3245753334377767774433634446467677732244465553...</td>\n",
       "    </tr>\n",
       "  </tbody>\n",
       "</table>\n",
       "<p>15553 rows × 10 columns</p>\n",
       "</div>"
      ],
      "text/plain": [
       "       script_id imdb_character_name  words gender   age    imdb_id  \\\n",
       "0            280               betty    311      f  35.0  tt0112579   \n",
       "3            280     francesca johns   2251      f  46.0  tt0112579   \n",
       "4            280               madge    190      f  46.0  tt0112579   \n",
       "5            280     michael johnson    723      m  38.0  tt0112579   \n",
       "6            280      robert kincaid   1908      m  65.0  tt0112579   \n",
       "...          ...                 ...    ...    ...   ...        ...   \n",
       "23043       9254             lumiere   1063      m  56.0  tt0101414   \n",
       "23044       9254             maurice   1107      m  71.0  tt0101414   \n",
       "23045       9254     monsieur d'arqu    114      m  58.0  tt0101414   \n",
       "23046       9254          mrs. potts    564      f  66.0  tt0101414   \n",
       "23047       9254            wardrobe    121      f  54.0  tt0101414   \n",
       "\n",
       "                               title  year  gross  \\\n",
       "0      The Bridges of Madison County  1995  142.0   \n",
       "3      The Bridges of Madison County  1995  142.0   \n",
       "4      The Bridges of Madison County  1995  142.0   \n",
       "5      The Bridges of Madison County  1995  142.0   \n",
       "6      The Bridges of Madison County  1995  142.0   \n",
       "...                              ...   ...    ...   \n",
       "23043           Beauty and the Beast  1991  452.0   \n",
       "23044           Beauty and the Beast  1991  452.0   \n",
       "23045           Beauty and the Beast  1991  452.0   \n",
       "23046           Beauty and the Beast  1991  452.0   \n",
       "23047           Beauty and the Beast  1991  452.0   \n",
       "\n",
       "                                              lines_data  \n",
       "0      4332023434343443203433434334433434343434434344...  \n",
       "3      4332023434343443203433434334433434343434434344...  \n",
       "4      4332023434343443203433434334433434343434434344...  \n",
       "5      4332023434343443203433434334433434343434434344...  \n",
       "6      4332023434343443203433434334433434343434434344...  \n",
       "...                                                  ...  \n",
       "23043  3245753334377767774433634446467677732244465553...  \n",
       "23044  3245753334377767774433634446467677732244465553...  \n",
       "23045  3245753334377767774433634446467677732244465553...  \n",
       "23046  3245753334377767774433634446467677732244465553...  \n",
       "23047  3245753334377767774433634446467677732244465553...  \n",
       "\n",
       "[15553 rows x 10 columns]"
      ]
     },
     "execution_count": 276,
     "metadata": {},
     "output_type": "execute_result"
    }
   ],
   "source": [
    "xclean=dialogue_df[(dialogue_df.age.notna())&(dialogue_df.gross.notna())]\n",
    "xclean"
   ]
  },
  {
   "cell_type": "markdown",
   "metadata": {},
   "source": [
    "we can see that imdb character name is also Nan free, it must be because they on the same row as the row that has Nan value in gross or age"
   ]
  },
  {
   "cell_type": "code",
   "execution_count": 277,
   "metadata": {},
   "outputs": [
    {
     "data": {
      "text/plain": [
       "script_id              0\n",
       "imdb_character_name    0\n",
       "words                  0\n",
       "gender                 0\n",
       "age                    0\n",
       "imdb_id                0\n",
       "title                  0\n",
       "year                   0\n",
       "gross                  0\n",
       "lines_data             0\n",
       "dtype: int64"
      ]
     },
     "execution_count": 277,
     "metadata": {},
     "output_type": "execute_result"
    }
   ],
   "source": [
    "xclean.isna().sum()"
   ]
  },
  {
   "cell_type": "markdown",
   "metadata": {},
   "source": [
    "make new column of age category"
   ]
  },
  {
   "cell_type": "code",
   "execution_count": 278,
   "metadata": {},
   "outputs": [
    {
     "name": "stderr",
     "output_type": "stream",
     "text": [
      "C:\\Users\\arthu\\AppData\\Local\\Temp\\ipykernel_8112\\4009212726.py:12: SettingWithCopyWarning: \n",
      "A value is trying to be set on a copy of a slice from a DataFrame.\n",
      "Try using .loc[row_indexer,col_indexer] = value instead\n",
      "\n",
      "See the caveats in the documentation: https://pandas.pydata.org/pandas-docs/stable/user_guide/indexing.html#returning-a-view-versus-a-copy\n",
      "  xclean['age_category'] = xclean.apply(categorize_age, axis=1)\n"
     ]
    }
   ],
   "source": [
    "def categorize_age(row):\n",
    "    if row['age'] == row['year']:\n",
    "        return 'unknown'\n",
    "    elif row['age'] <= 21:\n",
    "        return 'age 21 and under'\n",
    "    elif 22 <= row['age'] <= 50:\n",
    "        return 'age 22-50'\n",
    "    else:\n",
    "        return 'age 51 and above'\n",
    "\n",
    "# Apply the function to each row and store the result in a new column\n",
    "xclean['age_category'] = xclean.apply(categorize_age, axis=1)"
   ]
  },
  {
   "cell_type": "code",
   "execution_count": 279,
   "metadata": {},
   "outputs": [
    {
     "data": {
      "text/html": [
       "<div>\n",
       "<style scoped>\n",
       "    .dataframe tbody tr th:only-of-type {\n",
       "        vertical-align: middle;\n",
       "    }\n",
       "\n",
       "    .dataframe tbody tr th {\n",
       "        vertical-align: top;\n",
       "    }\n",
       "\n",
       "    .dataframe thead th {\n",
       "        text-align: right;\n",
       "    }\n",
       "</style>\n",
       "<table border=\"1\" class=\"dataframe\">\n",
       "  <thead>\n",
       "    <tr style=\"text-align: right;\">\n",
       "      <th></th>\n",
       "      <th>script_id</th>\n",
       "      <th>imdb_character_name</th>\n",
       "      <th>words</th>\n",
       "      <th>gender</th>\n",
       "      <th>age</th>\n",
       "      <th>imdb_id</th>\n",
       "      <th>title</th>\n",
       "      <th>year</th>\n",
       "      <th>gross</th>\n",
       "      <th>lines_data</th>\n",
       "      <th>age_category</th>\n",
       "    </tr>\n",
       "  </thead>\n",
       "  <tbody>\n",
       "    <tr>\n",
       "      <th>0</th>\n",
       "      <td>280</td>\n",
       "      <td>betty</td>\n",
       "      <td>311</td>\n",
       "      <td>f</td>\n",
       "      <td>35.0</td>\n",
       "      <td>tt0112579</td>\n",
       "      <td>The Bridges of Madison County</td>\n",
       "      <td>1995</td>\n",
       "      <td>142.0</td>\n",
       "      <td>4332023434343443203433434334433434343434434344...</td>\n",
       "      <td>age 22-50</td>\n",
       "    </tr>\n",
       "    <tr>\n",
       "      <th>3</th>\n",
       "      <td>280</td>\n",
       "      <td>francesca johns</td>\n",
       "      <td>2251</td>\n",
       "      <td>f</td>\n",
       "      <td>46.0</td>\n",
       "      <td>tt0112579</td>\n",
       "      <td>The Bridges of Madison County</td>\n",
       "      <td>1995</td>\n",
       "      <td>142.0</td>\n",
       "      <td>4332023434343443203433434334433434343434434344...</td>\n",
       "      <td>age 22-50</td>\n",
       "    </tr>\n",
       "    <tr>\n",
       "      <th>4</th>\n",
       "      <td>280</td>\n",
       "      <td>madge</td>\n",
       "      <td>190</td>\n",
       "      <td>f</td>\n",
       "      <td>46.0</td>\n",
       "      <td>tt0112579</td>\n",
       "      <td>The Bridges of Madison County</td>\n",
       "      <td>1995</td>\n",
       "      <td>142.0</td>\n",
       "      <td>4332023434343443203433434334433434343434434344...</td>\n",
       "      <td>age 22-50</td>\n",
       "    </tr>\n",
       "    <tr>\n",
       "      <th>5</th>\n",
       "      <td>280</td>\n",
       "      <td>michael johnson</td>\n",
       "      <td>723</td>\n",
       "      <td>m</td>\n",
       "      <td>38.0</td>\n",
       "      <td>tt0112579</td>\n",
       "      <td>The Bridges of Madison County</td>\n",
       "      <td>1995</td>\n",
       "      <td>142.0</td>\n",
       "      <td>4332023434343443203433434334433434343434434344...</td>\n",
       "      <td>age 22-50</td>\n",
       "    </tr>\n",
       "    <tr>\n",
       "      <th>6</th>\n",
       "      <td>280</td>\n",
       "      <td>robert kincaid</td>\n",
       "      <td>1908</td>\n",
       "      <td>m</td>\n",
       "      <td>65.0</td>\n",
       "      <td>tt0112579</td>\n",
       "      <td>The Bridges of Madison County</td>\n",
       "      <td>1995</td>\n",
       "      <td>142.0</td>\n",
       "      <td>4332023434343443203433434334433434343434434344...</td>\n",
       "      <td>age 51 and above</td>\n",
       "    </tr>\n",
       "    <tr>\n",
       "      <th>...</th>\n",
       "      <td>...</td>\n",
       "      <td>...</td>\n",
       "      <td>...</td>\n",
       "      <td>...</td>\n",
       "      <td>...</td>\n",
       "      <td>...</td>\n",
       "      <td>...</td>\n",
       "      <td>...</td>\n",
       "      <td>...</td>\n",
       "      <td>...</td>\n",
       "      <td>...</td>\n",
       "    </tr>\n",
       "    <tr>\n",
       "      <th>23043</th>\n",
       "      <td>9254</td>\n",
       "      <td>lumiere</td>\n",
       "      <td>1063</td>\n",
       "      <td>m</td>\n",
       "      <td>56.0</td>\n",
       "      <td>tt0101414</td>\n",
       "      <td>Beauty and the Beast</td>\n",
       "      <td>1991</td>\n",
       "      <td>452.0</td>\n",
       "      <td>3245753334377767774433634446467677732244465553...</td>\n",
       "      <td>age 51 and above</td>\n",
       "    </tr>\n",
       "    <tr>\n",
       "      <th>23044</th>\n",
       "      <td>9254</td>\n",
       "      <td>maurice</td>\n",
       "      <td>1107</td>\n",
       "      <td>m</td>\n",
       "      <td>71.0</td>\n",
       "      <td>tt0101414</td>\n",
       "      <td>Beauty and the Beast</td>\n",
       "      <td>1991</td>\n",
       "      <td>452.0</td>\n",
       "      <td>3245753334377767774433634446467677732244465553...</td>\n",
       "      <td>age 51 and above</td>\n",
       "    </tr>\n",
       "    <tr>\n",
       "      <th>23045</th>\n",
       "      <td>9254</td>\n",
       "      <td>monsieur d'arqu</td>\n",
       "      <td>114</td>\n",
       "      <td>m</td>\n",
       "      <td>58.0</td>\n",
       "      <td>tt0101414</td>\n",
       "      <td>Beauty and the Beast</td>\n",
       "      <td>1991</td>\n",
       "      <td>452.0</td>\n",
       "      <td>3245753334377767774433634446467677732244465553...</td>\n",
       "      <td>age 51 and above</td>\n",
       "    </tr>\n",
       "    <tr>\n",
       "      <th>23046</th>\n",
       "      <td>9254</td>\n",
       "      <td>mrs. potts</td>\n",
       "      <td>564</td>\n",
       "      <td>f</td>\n",
       "      <td>66.0</td>\n",
       "      <td>tt0101414</td>\n",
       "      <td>Beauty and the Beast</td>\n",
       "      <td>1991</td>\n",
       "      <td>452.0</td>\n",
       "      <td>3245753334377767774433634446467677732244465553...</td>\n",
       "      <td>age 51 and above</td>\n",
       "    </tr>\n",
       "    <tr>\n",
       "      <th>23047</th>\n",
       "      <td>9254</td>\n",
       "      <td>wardrobe</td>\n",
       "      <td>121</td>\n",
       "      <td>f</td>\n",
       "      <td>54.0</td>\n",
       "      <td>tt0101414</td>\n",
       "      <td>Beauty and the Beast</td>\n",
       "      <td>1991</td>\n",
       "      <td>452.0</td>\n",
       "      <td>3245753334377767774433634446467677732244465553...</td>\n",
       "      <td>age 51 and above</td>\n",
       "    </tr>\n",
       "  </tbody>\n",
       "</table>\n",
       "<p>15553 rows × 11 columns</p>\n",
       "</div>"
      ],
      "text/plain": [
       "       script_id imdb_character_name  words gender   age    imdb_id  \\\n",
       "0            280               betty    311      f  35.0  tt0112579   \n",
       "3            280     francesca johns   2251      f  46.0  tt0112579   \n",
       "4            280               madge    190      f  46.0  tt0112579   \n",
       "5            280     michael johnson    723      m  38.0  tt0112579   \n",
       "6            280      robert kincaid   1908      m  65.0  tt0112579   \n",
       "...          ...                 ...    ...    ...   ...        ...   \n",
       "23043       9254             lumiere   1063      m  56.0  tt0101414   \n",
       "23044       9254             maurice   1107      m  71.0  tt0101414   \n",
       "23045       9254     monsieur d'arqu    114      m  58.0  tt0101414   \n",
       "23046       9254          mrs. potts    564      f  66.0  tt0101414   \n",
       "23047       9254            wardrobe    121      f  54.0  tt0101414   \n",
       "\n",
       "                               title  year  gross  \\\n",
       "0      The Bridges of Madison County  1995  142.0   \n",
       "3      The Bridges of Madison County  1995  142.0   \n",
       "4      The Bridges of Madison County  1995  142.0   \n",
       "5      The Bridges of Madison County  1995  142.0   \n",
       "6      The Bridges of Madison County  1995  142.0   \n",
       "...                              ...   ...    ...   \n",
       "23043           Beauty and the Beast  1991  452.0   \n",
       "23044           Beauty and the Beast  1991  452.0   \n",
       "23045           Beauty and the Beast  1991  452.0   \n",
       "23046           Beauty and the Beast  1991  452.0   \n",
       "23047           Beauty and the Beast  1991  452.0   \n",
       "\n",
       "                                              lines_data      age_category  \n",
       "0      4332023434343443203433434334433434343434434344...         age 22-50  \n",
       "3      4332023434343443203433434334433434343434434344...         age 22-50  \n",
       "4      4332023434343443203433434334433434343434434344...         age 22-50  \n",
       "5      4332023434343443203433434334433434343434434344...         age 22-50  \n",
       "6      4332023434343443203433434334433434343434434344...  age 51 and above  \n",
       "...                                                  ...               ...  \n",
       "23043  3245753334377767774433634446467677732244465553...  age 51 and above  \n",
       "23044  3245753334377767774433634446467677732244465553...  age 51 and above  \n",
       "23045  3245753334377767774433634446467677732244465553...  age 51 and above  \n",
       "23046  3245753334377767774433634446467677732244465553...  age 51 and above  \n",
       "23047  3245753334377767774433634446467677732244465553...  age 51 and above  \n",
       "\n",
       "[15553 rows x 11 columns]"
      ]
     },
     "execution_count": 279,
     "metadata": {},
     "output_type": "execute_result"
    }
   ],
   "source": [
    "xclean"
   ]
  },
  {
   "cell_type": "code",
   "execution_count": 280,
   "metadata": {},
   "outputs": [
    {
     "data": {
      "text/plain": [
       "age_category\n",
       "age 22-50           10841\n",
       "age 51 and above     3623\n",
       "age 21 and under     1076\n",
       "unknown                13\n",
       "Name: count, dtype: int64"
      ]
     },
     "execution_count": 280,
     "metadata": {},
     "output_type": "execute_result"
    }
   ],
   "source": [
    "xclean['age_category'].value_counts()"
   ]
  },
  {
   "cell_type": "code",
   "execution_count": 281,
   "metadata": {},
   "outputs": [
    {
     "name": "stderr",
     "output_type": "stream",
     "text": [
      "C:\\Users\\arthu\\AppData\\Local\\Temp\\ipykernel_8112\\3352702549.py:1: SettingWithCopyWarning: \n",
      "A value is trying to be set on a copy of a slice from a DataFrame.\n",
      "Try using .loc[row_indexer,col_indexer] = value instead\n",
      "\n",
      "See the caveats in the documentation: https://pandas.pydata.org/pandas-docs/stable/user_guide/indexing.html#returning-a-view-versus-a-copy\n",
      "  xclean['date']=xclean['year'].astype(str)+'-01-01'\n",
      "C:\\Users\\arthu\\AppData\\Local\\Temp\\ipykernel_8112\\3352702549.py:2: SettingWithCopyWarning: \n",
      "A value is trying to be set on a copy of a slice from a DataFrame.\n",
      "Try using .loc[row_indexer,col_indexer] = value instead\n",
      "\n",
      "See the caveats in the documentation: https://pandas.pydata.org/pandas-docs/stable/user_guide/indexing.html#returning-a-view-versus-a-copy\n",
      "  xclean['date'] = pd.to_datetime(xclean['date'])\n"
     ]
    }
   ],
   "source": [
    "xclean['date']=xclean['year'].astype(str)+'-01-01'\n",
    "xclean['date'] = pd.to_datetime(xclean['date'])"
   ]
  },
  {
   "cell_type": "markdown",
   "metadata": {},
   "source": [
    "### Grouping"
   ]
  },
  {
   "cell_type": "code",
   "execution_count": 282,
   "metadata": {},
   "outputs": [],
   "source": [
    "gaw=xclean.groupby(['date', 'age_category'])['words'].sum().reset_index()\n",
    "gag=xclean.groupby(['date', 'age_category'])[\"gross\"].sum().reset_index()"
   ]
  },
  {
   "cell_type": "code",
   "execution_count": 283,
   "metadata": {},
   "outputs": [
    {
     "data": {
      "application/vnd.vegalite.v5+json": {
       "$schema": "https://vega.github.io/schema/vega-lite/v5.16.3.json",
       "config": {
        "view": {
         "continuousHeight": 300,
         "continuousWidth": 300
        }
       },
       "data": {
        "name": "data-f1963ee60cad43eafee7cf5b80b378a6"
       },
       "datasets": {
        "data-f1963ee60cad43eafee7cf5b80b378a6": [
         {
          "age_category": "age 21 and under",
          "date": "1931-01-01T00:00:00",
          "words": 425
         },
         {
          "age_category": "age 22-50",
          "date": "1931-01-01T00:00:00",
          "words": 2984
         },
         {
          "age_category": "age 51 and above",
          "date": "1931-01-01T00:00:00",
          "words": 390
         },
         {
          "age_category": "age 21 and under",
          "date": "1939-01-01T00:00:00",
          "words": 3060
         },
         {
          "age_category": "age 22-50",
          "date": "1939-01-01T00:00:00",
          "words": 19076
         },
         {
          "age_category": "age 51 and above",
          "date": "1939-01-01T00:00:00",
          "words": 3089
         },
         {
          "age_category": "age 22-50",
          "date": "1949-01-01T00:00:00",
          "words": 8266
         },
         {
          "age_category": "age 51 and above",
          "date": "1949-01-01T00:00:00",
          "words": 1344
         },
         {
          "age_category": "age 22-50",
          "date": "1954-01-01T00:00:00",
          "words": 27492
         },
         {
          "age_category": "age 51 and above",
          "date": "1954-01-01T00:00:00",
          "words": 4110
         },
         {
          "age_category": "age 22-50",
          "date": "1958-01-01T00:00:00",
          "words": 13007
         },
         {
          "age_category": "age 51 and above",
          "date": "1958-01-01T00:00:00",
          "words": 1889
         },
         {
          "age_category": "age 22-50",
          "date": "1959-01-01T00:00:00",
          "words": 13505
         },
         {
          "age_category": "age 51 and above",
          "date": "1959-01-01T00:00:00",
          "words": 5247
         },
         {
          "age_category": "age 22-50",
          "date": "1960-01-01T00:00:00",
          "words": 6806
         },
         {
          "age_category": "age 51 and above",
          "date": "1960-01-01T00:00:00",
          "words": 945
         },
         {
          "age_category": "age 21 and under",
          "date": "1966-01-01T00:00:00",
          "words": 109
         },
         {
          "age_category": "age 22-50",
          "date": "1966-01-01T00:00:00",
          "words": 10933
         },
         {
          "age_category": "age 51 and above",
          "date": "1966-01-01T00:00:00",
          "words": 5330
         },
         {
          "age_category": "age 21 and under",
          "date": "1967-01-01T00:00:00",
          "words": 883
         },
         {
          "age_category": "age 22-50",
          "date": "1967-01-01T00:00:00",
          "words": 1509
         },
         {
          "age_category": "age 51 and above",
          "date": "1967-01-01T00:00:00",
          "words": 4668
         },
         {
          "age_category": "age 21 and under",
          "date": "1968-01-01T00:00:00",
          "words": 254
         },
         {
          "age_category": "age 22-50",
          "date": "1968-01-01T00:00:00",
          "words": 9310
         },
         {
          "age_category": "age 51 and above",
          "date": "1968-01-01T00:00:00",
          "words": 2344
         },
         {
          "age_category": "age 22-50",
          "date": "1970-01-01T00:00:00",
          "words": 13162
         },
         {
          "age_category": "age 22-50",
          "date": "1971-01-01T00:00:00",
          "words": 4858
         },
         {
          "age_category": "age 51 and above",
          "date": "1971-01-01T00:00:00",
          "words": 2232
         },
         {
          "age_category": "age 21 and under",
          "date": "1972-01-01T00:00:00",
          "words": 706
         },
         {
          "age_category": "age 22-50",
          "date": "1972-01-01T00:00:00",
          "words": 23800
         },
         {
          "age_category": "age 51 and above",
          "date": "1972-01-01T00:00:00",
          "words": 4326
         },
         {
          "age_category": "age 21 and under",
          "date": "1973-01-01T00:00:00",
          "words": 3757
         },
         {
          "age_category": "age 22-50",
          "date": "1973-01-01T00:00:00",
          "words": 18955
         },
         {
          "age_category": "age 51 and above",
          "date": "1973-01-01T00:00:00",
          "words": 1464
         },
         {
          "age_category": "age 22-50",
          "date": "1974-01-01T00:00:00",
          "words": 26517
         },
         {
          "age_category": "age 51 and above",
          "date": "1974-01-01T00:00:00",
          "words": 3330
         },
         {
          "age_category": "age 22-50",
          "date": "1975-01-01T00:00:00",
          "words": 15536
         },
         {
          "age_category": "age 51 and above",
          "date": "1975-01-01T00:00:00",
          "words": 2716
         },
         {
          "age_category": "age 22-50",
          "date": "1976-01-01T00:00:00",
          "words": 11972
         },
         {
          "age_category": "age 51 and above",
          "date": "1976-01-01T00:00:00",
          "words": 2588
         },
         {
          "age_category": "age 21 and under",
          "date": "1977-01-01T00:00:00",
          "words": 636
         },
         {
          "age_category": "age 22-50",
          "date": "1977-01-01T00:00:00",
          "words": 24767
         },
         {
          "age_category": "age 51 and above",
          "date": "1977-01-01T00:00:00",
          "words": 2147
         },
         {
          "age_category": "age 21 and under",
          "date": "1978-01-01T00:00:00",
          "words": 3301
         },
         {
          "age_category": "age 22-50",
          "date": "1978-01-01T00:00:00",
          "words": 9971
         },
         {
          "age_category": "age 51 and above",
          "date": "1978-01-01T00:00:00",
          "words": 1325
         },
         {
          "age_category": "age 21 and under",
          "date": "1979-01-01T00:00:00",
          "words": 1669
         },
         {
          "age_category": "age 22-50",
          "date": "1979-01-01T00:00:00",
          "words": 47655
         },
         {
          "age_category": "age 51 and above",
          "date": "1979-01-01T00:00:00",
          "words": 5111
         },
         {
          "age_category": "age 21 and under",
          "date": "1980-01-01T00:00:00",
          "words": 8499
         },
         {
          "age_category": "age 22-50",
          "date": "1980-01-01T00:00:00",
          "words": 60490
         },
         {
          "age_category": "age 51 and above",
          "date": "1980-01-01T00:00:00",
          "words": 9207
         },
         {
          "age_category": "age 21 and under",
          "date": "1981-01-01T00:00:00",
          "words": 1469
         },
         {
          "age_category": "age 22-50",
          "date": "1981-01-01T00:00:00",
          "words": 34027
         },
         {
          "age_category": "age 51 and above",
          "date": "1981-01-01T00:00:00",
          "words": 17594
         },
         {
          "age_category": "age 21 and under",
          "date": "1982-01-01T00:00:00",
          "words": 9144
         },
         {
          "age_category": "age 22-50",
          "date": "1982-01-01T00:00:00",
          "words": 102623
         },
         {
          "age_category": "age 51 and above",
          "date": "1982-01-01T00:00:00",
          "words": 49264
         },
         {
          "age_category": "age 21 and under",
          "date": "1983-01-01T00:00:00",
          "words": 11150
         },
         {
          "age_category": "age 22-50",
          "date": "1983-01-01T00:00:00",
          "words": 66841
         },
         {
          "age_category": "age 51 and above",
          "date": "1983-01-01T00:00:00",
          "words": 20829
         },
         {
          "age_category": "age 21 and under",
          "date": "1984-01-01T00:00:00",
          "words": 12875
         },
         {
          "age_category": "age 22-50",
          "date": "1984-01-01T00:00:00",
          "words": 84496
         },
         {
          "age_category": "age 51 and above",
          "date": "1984-01-01T00:00:00",
          "words": 15496
         },
         {
          "age_category": "age 21 and under",
          "date": "1985-01-01T00:00:00",
          "words": 26755
         },
         {
          "age_category": "age 22-50",
          "date": "1985-01-01T00:00:00",
          "words": 86004
         },
         {
          "age_category": "age 51 and above",
          "date": "1985-01-01T00:00:00",
          "words": 12418
         },
         {
          "age_category": "age 21 and under",
          "date": "1986-01-01T00:00:00",
          "words": 17807
         },
         {
          "age_category": "age 22-50",
          "date": "1986-01-01T00:00:00",
          "words": 139193
         },
         {
          "age_category": "age 51 and above",
          "date": "1986-01-01T00:00:00",
          "words": 34955
         },
         {
          "age_category": "age 21 and under",
          "date": "1987-01-01T00:00:00",
          "words": 10555
         },
         {
          "age_category": "age 22-50",
          "date": "1987-01-01T00:00:00",
          "words": 212796
         },
         {
          "age_category": "age 51 and above",
          "date": "1987-01-01T00:00:00",
          "words": 28865
         },
         {
          "age_category": "age 21 and under",
          "date": "1988-01-01T00:00:00",
          "words": 21537
         },
         {
          "age_category": "age 22-50",
          "date": "1988-01-01T00:00:00",
          "words": 137726
         },
         {
          "age_category": "age 51 and above",
          "date": "1988-01-01T00:00:00",
          "words": 13432
         },
         {
          "age_category": "age 21 and under",
          "date": "1989-01-01T00:00:00",
          "words": 38361
         },
         {
          "age_category": "age 22-50",
          "date": "1989-01-01T00:00:00",
          "words": 263367
         },
         {
          "age_category": "age 51 and above",
          "date": "1989-01-01T00:00:00",
          "words": 53072
         },
         {
          "age_category": "age 21 and under",
          "date": "1990-01-01T00:00:00",
          "words": 6162
         },
         {
          "age_category": "age 22-50",
          "date": "1990-01-01T00:00:00",
          "words": 242699
         },
         {
          "age_category": "age 51 and above",
          "date": "1990-01-01T00:00:00",
          "words": 47079
         },
         {
          "age_category": "age 21 and under",
          "date": "1991-01-01T00:00:00",
          "words": 27244
         },
         {
          "age_category": "age 22-50",
          "date": "1991-01-01T00:00:00",
          "words": 287623
         },
         {
          "age_category": "age 51 and above",
          "date": "1991-01-01T00:00:00",
          "words": 77899
         },
         {
          "age_category": "age 21 and under",
          "date": "1992-01-01T00:00:00",
          "words": 15722
         },
         {
          "age_category": "age 22-50",
          "date": "1992-01-01T00:00:00",
          "words": 301411
         },
         {
          "age_category": "age 51 and above",
          "date": "1992-01-01T00:00:00",
          "words": 78585
         },
         {
          "age_category": "unknown",
          "date": "1992-01-01T00:00:00",
          "words": 120
         },
         {
          "age_category": "age 21 and under",
          "date": "1993-01-01T00:00:00",
          "words": 32792
         },
         {
          "age_category": "age 22-50",
          "date": "1993-01-01T00:00:00",
          "words": 309453
         },
         {
          "age_category": "age 51 and above",
          "date": "1993-01-01T00:00:00",
          "words": 70789
         },
         {
          "age_category": "unknown",
          "date": "1993-01-01T00:00:00",
          "words": 116
         },
         {
          "age_category": "age 21 and under",
          "date": "1994-01-01T00:00:00",
          "words": 26917
         },
         {
          "age_category": "age 22-50",
          "date": "1994-01-01T00:00:00",
          "words": 293288
         },
         {
          "age_category": "age 51 and above",
          "date": "1994-01-01T00:00:00",
          "words": 51889
         },
         {
          "age_category": "age 21 and under",
          "date": "1995-01-01T00:00:00",
          "words": 34102
         },
         {
          "age_category": "age 22-50",
          "date": "1995-01-01T00:00:00",
          "words": 422580
         },
         {
          "age_category": "age 51 and above",
          "date": "1995-01-01T00:00:00",
          "words": 163484
         },
         {
          "age_category": "unknown",
          "date": "1995-01-01T00:00:00",
          "words": 152
         },
         {
          "age_category": "age 21 and under",
          "date": "1996-01-01T00:00:00",
          "words": 13657
         },
         {
          "age_category": "age 22-50",
          "date": "1996-01-01T00:00:00",
          "words": 386080
         },
         {
          "age_category": "age 51 and above",
          "date": "1996-01-01T00:00:00",
          "words": 79345
         },
         {
          "age_category": "unknown",
          "date": "1996-01-01T00:00:00",
          "words": 500
         },
         {
          "age_category": "age 21 and under",
          "date": "1997-01-01T00:00:00",
          "words": 28410
         },
         {
          "age_category": "age 22-50",
          "date": "1997-01-01T00:00:00",
          "words": 477148
         },
         {
          "age_category": "age 51 and above",
          "date": "1997-01-01T00:00:00",
          "words": 151853
         },
         {
          "age_category": "age 21 and under",
          "date": "1998-01-01T00:00:00",
          "words": 35709
         },
         {
          "age_category": "age 22-50",
          "date": "1998-01-01T00:00:00",
          "words": 551556
         },
         {
          "age_category": "age 51 and above",
          "date": "1998-01-01T00:00:00",
          "words": 174931
         },
         {
          "age_category": "age 21 and under",
          "date": "1999-01-01T00:00:00",
          "words": 84676
         },
         {
          "age_category": "age 22-50",
          "date": "1999-01-01T00:00:00",
          "words": 685685
         },
         {
          "age_category": "age 51 and above",
          "date": "1999-01-01T00:00:00",
          "words": 157160
         },
         {
          "age_category": "unknown",
          "date": "1999-01-01T00:00:00",
          "words": 104
         },
         {
          "age_category": "age 21 and under",
          "date": "2000-01-01T00:00:00",
          "words": 21226
         },
         {
          "age_category": "age 22-50",
          "date": "2000-01-01T00:00:00",
          "words": 539367
         },
         {
          "age_category": "age 51 and above",
          "date": "2000-01-01T00:00:00",
          "words": 90351
         },
         {
          "age_category": "unknown",
          "date": "2000-01-01T00:00:00",
          "words": 567
         },
         {
          "age_category": "age 21 and under",
          "date": "2001-01-01T00:00:00",
          "words": 67014
         },
         {
          "age_category": "age 22-50",
          "date": "2001-01-01T00:00:00",
          "words": 458409
         },
         {
          "age_category": "age 51 and above",
          "date": "2001-01-01T00:00:00",
          "words": 91673
         },
         {
          "age_category": "unknown",
          "date": "2001-01-01T00:00:00",
          "words": 224
         },
         {
          "age_category": "age 21 and under",
          "date": "2002-01-01T00:00:00",
          "words": 29718
         },
         {
          "age_category": "age 22-50",
          "date": "2002-01-01T00:00:00",
          "words": 322855
         },
         {
          "age_category": "age 51 and above",
          "date": "2002-01-01T00:00:00",
          "words": 93514
         },
         {
          "age_category": "age 21 and under",
          "date": "2003-01-01T00:00:00",
          "words": 27478
         },
         {
          "age_category": "age 22-50",
          "date": "2003-01-01T00:00:00",
          "words": 280476
         },
         {
          "age_category": "age 51 and above",
          "date": "2003-01-01T00:00:00",
          "words": 89070
         },
         {
          "age_category": "age 21 and under",
          "date": "2004-01-01T00:00:00",
          "words": 25286
         },
         {
          "age_category": "age 22-50",
          "date": "2004-01-01T00:00:00",
          "words": 362831
         },
         {
          "age_category": "age 51 and above",
          "date": "2004-01-01T00:00:00",
          "words": 76775
         },
         {
          "age_category": "age 21 and under",
          "date": "2005-01-01T00:00:00",
          "words": 36022
         },
         {
          "age_category": "age 22-50",
          "date": "2005-01-01T00:00:00",
          "words": 401615
         },
         {
          "age_category": "age 51 and above",
          "date": "2005-01-01T00:00:00",
          "words": 80042
         },
         {
          "age_category": "age 21 and under",
          "date": "2006-01-01T00:00:00",
          "words": 20022
         },
         {
          "age_category": "age 22-50",
          "date": "2006-01-01T00:00:00",
          "words": 271916
         },
         {
          "age_category": "age 51 and above",
          "date": "2006-01-01T00:00:00",
          "words": 75304
         },
         {
          "age_category": "unknown",
          "date": "2006-01-01T00:00:00",
          "words": 148
         },
         {
          "age_category": "age 21 and under",
          "date": "2007-01-01T00:00:00",
          "words": 41530
         },
         {
          "age_category": "age 22-50",
          "date": "2007-01-01T00:00:00",
          "words": 358881
         },
         {
          "age_category": "age 51 and above",
          "date": "2007-01-01T00:00:00",
          "words": 114547
         },
         {
          "age_category": "unknown",
          "date": "2007-01-01T00:00:00",
          "words": 188
         },
         {
          "age_category": "age 21 and under",
          "date": "2008-01-01T00:00:00",
          "words": 30140
         },
         {
          "age_category": "age 22-50",
          "date": "2008-01-01T00:00:00",
          "words": 522668
         },
         {
          "age_category": "age 51 and above",
          "date": "2008-01-01T00:00:00",
          "words": 143870
         },
         {
          "age_category": "age 21 and under",
          "date": "2009-01-01T00:00:00",
          "words": 96086
         },
         {
          "age_category": "age 22-50",
          "date": "2009-01-01T00:00:00",
          "words": 716087
         },
         {
          "age_category": "age 51 and above",
          "date": "2009-01-01T00:00:00",
          "words": 192063
         },
         {
          "age_category": "unknown",
          "date": "2009-01-01T00:00:00",
          "words": 310
         },
         {
          "age_category": "age 21 and under",
          "date": "2010-01-01T00:00:00",
          "words": 35006
         },
         {
          "age_category": "age 22-50",
          "date": "2010-01-01T00:00:00",
          "words": 538977
         },
         {
          "age_category": "age 51 and above",
          "date": "2010-01-01T00:00:00",
          "words": 150570
         },
         {
          "age_category": "age 21 and under",
          "date": "2011-01-01T00:00:00",
          "words": 33589
         },
         {
          "age_category": "age 22-50",
          "date": "2011-01-01T00:00:00",
          "words": 628338
         },
         {
          "age_category": "age 51 and above",
          "date": "2011-01-01T00:00:00",
          "words": 143497
         },
         {
          "age_category": "age 21 and under",
          "date": "2012-01-01T00:00:00",
          "words": 32554
         },
         {
          "age_category": "age 22-50",
          "date": "2012-01-01T00:00:00",
          "words": 383060
         },
         {
          "age_category": "age 51 and above",
          "date": "2012-01-01T00:00:00",
          "words": 116129
         },
         {
          "age_category": "age 21 and under",
          "date": "2013-01-01T00:00:00",
          "words": 16753
         },
         {
          "age_category": "age 22-50",
          "date": "2013-01-01T00:00:00",
          "words": 376175
         },
         {
          "age_category": "age 51 and above",
          "date": "2013-01-01T00:00:00",
          "words": 114285
         },
         {
          "age_category": "unknown",
          "date": "2013-01-01T00:00:00",
          "words": 190
         },
         {
          "age_category": "age 21 and under",
          "date": "2014-01-01T00:00:00",
          "words": 27650
         },
         {
          "age_category": "age 22-50",
          "date": "2014-01-01T00:00:00",
          "words": 376090
         },
         {
          "age_category": "age 51 and above",
          "date": "2014-01-01T00:00:00",
          "words": 140424
         },
         {
          "age_category": "age 21 and under",
          "date": "2015-01-01T00:00:00",
          "words": 17576
         },
         {
          "age_category": "age 22-50",
          "date": "2015-01-01T00:00:00",
          "words": 227952
         },
         {
          "age_category": "age 51 and above",
          "date": "2015-01-01T00:00:00",
          "words": 105687
         }
        ]
       },
       "encoding": {
        "color": {
         "field": "age_category",
         "type": "nominal"
        },
        "tooltip": [
         {
          "field": "date",
          "type": "temporal"
         },
         {
          "field": "words",
          "type": "quantitative"
         },
         {
          "field": "age_category",
          "type": "nominal"
         }
        ],
        "x": {
         "field": "date",
         "type": "temporal"
        },
        "y": {
         "field": "words",
         "type": "quantitative"
        }
       },
       "mark": {
        "type": "line"
       },
       "params": [
        {
         "bind": "scales",
         "name": "param_29",
         "select": {
          "encodings": [
           "x",
           "y"
          ],
          "type": "interval"
         }
        }
       ],
       "title": "Dialogue Over Time Colored By Age Category"
      },
      "text/plain": [
       "<VegaLite 5 object>\n",
       "\n",
       "If you see this message, it means the renderer has not been properly enabled\n",
       "for the frontend that you are using. For more information, see\n",
       "https://altair-viz.github.io/user_guide/display_frontends.html#troubleshooting\n"
      ]
     },
     "execution_count": 283,
     "metadata": {},
     "output_type": "execute_result"
    }
   ],
   "source": [
    "alt.Chart(gaw).mark_line().encode(\n",
    "    x='date:T',\n",
    "    y='words',\n",
    "    color='age_category',\n",
    "    tooltip=['date', 'words','age_category']\n",
    ").interactive().properties(\n",
    "    title='Dialogue Over Time Colored By Age Category'\n",
    ")"
   ]
  },
  {
   "cell_type": "code",
   "execution_count": 285,
   "metadata": {},
   "outputs": [
    {
     "data": {
      "application/vnd.vegalite.v5+json": {
       "$schema": "https://vega.github.io/schema/vega-lite/v5.16.3.json",
       "config": {
        "view": {
         "continuousHeight": 300,
         "continuousWidth": 300
        }
       },
       "data": {
        "name": "data-6b908e8ab41aa66b0e9dda2b449e5ed0"
       },
       "datasets": {
        "data-6b908e8ab41aa66b0e9dda2b449e5ed0": [
         {
          "age_category": "age 21 and under",
          "date": "1931-01-01T00:00:00",
          "gross": 298
         },
         {
          "age_category": "age 22-50",
          "date": "1931-01-01T00:00:00",
          "gross": 894
         },
         {
          "age_category": "age 51 and above",
          "date": "1931-01-01T00:00:00",
          "gross": 298
         },
         {
          "age_category": "age 21 and under",
          "date": "1939-01-01T00:00:00",
          "gross": 839
         },
         {
          "age_category": "age 22-50",
          "date": "1939-01-01T00:00:00",
          "gross": 5349
         },
         {
          "age_category": "age 51 and above",
          "date": "1939-01-01T00:00:00",
          "gross": 2742
         },
         {
          "age_category": "age 22-50",
          "date": "1949-01-01T00:00:00",
          "gross": 56
         },
         {
          "age_category": "age 51 and above",
          "date": "1949-01-01T00:00:00",
          "gross": 32
         },
         {
          "age_category": "age 22-50",
          "date": "1954-01-01T00:00:00",
          "gross": 1785
         },
         {
          "age_category": "age 51 and above",
          "date": "1954-01-01T00:00:00",
          "gross": 215
         },
         {
          "age_category": "age 22-50",
          "date": "1958-01-01T00:00:00",
          "gross": 306
         },
         {
          "age_category": "age 51 and above",
          "date": "1958-01-01T00:00:00",
          "gross": 143
         },
         {
          "age_category": "age 22-50",
          "date": "1959-01-01T00:00:00",
          "gross": 5622
         },
         {
          "age_category": "age 51 and above",
          "date": "1959-01-01T00:00:00",
          "gross": 6530
         },
         {
          "age_category": "age 22-50",
          "date": "1960-01-01T00:00:00",
          "gross": 3815
         },
         {
          "age_category": "age 51 and above",
          "date": "1960-01-01T00:00:00",
          "gross": 1635
         },
         {
          "age_category": "age 21 and under",
          "date": "1966-01-01T00:00:00",
          "gross": 47
         },
         {
          "age_category": "age 22-50",
          "date": "1966-01-01T00:00:00",
          "gross": 335
         },
         {
          "age_category": "age 51 and above",
          "date": "1966-01-01T00:00:00",
          "gross": 141
         },
         {
          "age_category": "age 21 and under",
          "date": "1967-01-01T00:00:00",
          "gross": 1029
         },
         {
          "age_category": "age 22-50",
          "date": "1967-01-01T00:00:00",
          "gross": 1029
         },
         {
          "age_category": "age 51 and above",
          "date": "1967-01-01T00:00:00",
          "gross": 9261
         },
         {
          "age_category": "age 21 and under",
          "date": "1968-01-01T00:00:00",
          "gross": 172
         },
         {
          "age_category": "age 22-50",
          "date": "1968-01-01T00:00:00",
          "gross": 4180
         },
         {
          "age_category": "age 51 and above",
          "date": "1968-01-01T00:00:00",
          "gross": 548
         },
         {
          "age_category": "age 22-50",
          "date": "1970-01-01T00:00:00",
          "gross": 5038
         },
         {
          "age_category": "age 22-50",
          "date": "1971-01-01T00:00:00",
          "gross": 101
         },
         {
          "age_category": "age 51 and above",
          "date": "1971-01-01T00:00:00",
          "gross": 202
         },
         {
          "age_category": "age 21 and under",
          "date": "1972-01-01T00:00:00",
          "gross": 1173
         },
         {
          "age_category": "age 22-50",
          "date": "1972-01-01T00:00:00",
          "gross": 14784
         },
         {
          "age_category": "age 51 and above",
          "date": "1972-01-01T00:00:00",
          "gross": 5157
         },
         {
          "age_category": "age 21 and under",
          "date": "1973-01-01T00:00:00",
          "gross": 2455
         },
         {
          "age_category": "age 22-50",
          "date": "1973-01-01T00:00:00",
          "gross": 15354
         },
         {
          "age_category": "age 51 and above",
          "date": "1973-01-01T00:00:00",
          "gross": 3882
         },
         {
          "age_category": "age 22-50",
          "date": "1974-01-01T00:00:00",
          "gross": 10991
         },
         {
          "age_category": "age 51 and above",
          "date": "1974-01-01T00:00:00",
          "gross": 2315
         },
         {
          "age_category": "age 22-50",
          "date": "1975-01-01T00:00:00",
          "gross": 11369
         },
         {
          "age_category": "age 51 and above",
          "date": "1975-01-01T00:00:00",
          "gross": 3351
         },
         {
          "age_category": "age 22-50",
          "date": "1976-01-01T00:00:00",
          "gross": 5007
         },
         {
          "age_category": "age 51 and above",
          "date": "1976-01-01T00:00:00",
          "gross": 2487
         },
         {
          "age_category": "age 21 and under",
          "date": "1977-01-01T00:00:00",
          "gross": 1798
         },
         {
          "age_category": "age 22-50",
          "date": "1977-01-01T00:00:00",
          "gross": 18731
         },
         {
          "age_category": "age 51 and above",
          "date": "1977-01-01T00:00:00",
          "gross": 7496
         },
         {
          "age_category": "age 21 and under",
          "date": "1978-01-01T00:00:00",
          "gross": 2848
         },
         {
          "age_category": "age 22-50",
          "date": "1978-01-01T00:00:00",
          "gross": 4574
         },
         {
          "age_category": "age 51 and above",
          "date": "1978-01-01T00:00:00",
          "gross": 556
         },
         {
          "age_category": "age 21 and under",
          "date": "1979-01-01T00:00:00",
          "gross": 383
         },
         {
          "age_category": "age 22-50",
          "date": "1979-01-01T00:00:00",
          "gross": 6118
         },
         {
          "age_category": "age 51 and above",
          "date": "1979-01-01T00:00:00",
          "gross": 1852
         },
         {
          "age_category": "age 21 and under",
          "date": "1980-01-01T00:00:00",
          "gross": 780
         },
         {
          "age_category": "age 22-50",
          "date": "1980-01-01T00:00:00",
          "gross": 22880
         },
         {
          "age_category": "age 51 and above",
          "date": "1980-01-01T00:00:00",
          "gross": 4913
         },
         {
          "age_category": "age 21 and under",
          "date": "1981-01-01T00:00:00",
          "gross": 451
         },
         {
          "age_category": "age 22-50",
          "date": "1981-01-01T00:00:00",
          "gross": 3940
         },
         {
          "age_category": "age 51 and above",
          "date": "1981-01-01T00:00:00",
          "gross": 2930
         },
         {
          "age_category": "age 21 and under",
          "date": "1982-01-01T00:00:00",
          "gross": 545
         },
         {
          "age_category": "age 22-50",
          "date": "1982-01-01T00:00:00",
          "gross": 12971
         },
         {
          "age_category": "age 51 and above",
          "date": "1982-01-01T00:00:00",
          "gross": 3552
         },
         {
          "age_category": "age 21 and under",
          "date": "1983-01-01T00:00:00",
          "gross": 2463
         },
         {
          "age_category": "age 22-50",
          "date": "1983-01-01T00:00:00",
          "gross": 14405
         },
         {
          "age_category": "age 51 and above",
          "date": "1983-01-01T00:00:00",
          "gross": 5361
         },
         {
          "age_category": "age 21 and under",
          "date": "1984-01-01T00:00:00",
          "gross": 2266
         },
         {
          "age_category": "age 22-50",
          "date": "1984-01-01T00:00:00",
          "gross": 14677
         },
         {
          "age_category": "age 51 and above",
          "date": "1984-01-01T00:00:00",
          "gross": 4523
         },
         {
          "age_category": "age 21 and under",
          "date": "1985-01-01T00:00:00",
          "gross": 1525
         },
         {
          "age_category": "age 22-50",
          "date": "1985-01-01T00:00:00",
          "gross": 8509
         },
         {
          "age_category": "age 51 and above",
          "date": "1985-01-01T00:00:00",
          "gross": 1537
         },
         {
          "age_category": "age 21 and under",
          "date": "1986-01-01T00:00:00",
          "gross": 2440
         },
         {
          "age_category": "age 22-50",
          "date": "1986-01-01T00:00:00",
          "gross": 17457
         },
         {
          "age_category": "age 51 and above",
          "date": "1986-01-01T00:00:00",
          "gross": 4653
         },
         {
          "age_category": "age 21 and under",
          "date": "1987-01-01T00:00:00",
          "gross": 1335
         },
         {
          "age_category": "age 22-50",
          "date": "1987-01-01T00:00:00",
          "gross": 14402
         },
         {
          "age_category": "age 51 and above",
          "date": "1987-01-01T00:00:00",
          "gross": 4541
         },
         {
          "age_category": "age 21 and under",
          "date": "1988-01-01T00:00:00",
          "gross": 1649
         },
         {
          "age_category": "age 22-50",
          "date": "1988-01-01T00:00:00",
          "gross": 16972
         },
         {
          "age_category": "age 51 and above",
          "date": "1988-01-01T00:00:00",
          "gross": 3067
         },
         {
          "age_category": "age 21 and under",
          "date": "1989-01-01T00:00:00",
          "gross": 4172
         },
         {
          "age_category": "age 22-50",
          "date": "1989-01-01T00:00:00",
          "gross": 24569
         },
         {
          "age_category": "age 51 and above",
          "date": "1989-01-01T00:00:00",
          "gross": 9852
         },
         {
          "age_category": "age 21 and under",
          "date": "1990-01-01T00:00:00",
          "gross": 3042
         },
         {
          "age_category": "age 22-50",
          "date": "1990-01-01T00:00:00",
          "gross": 29822
         },
         {
          "age_category": "age 51 and above",
          "date": "1990-01-01T00:00:00",
          "gross": 6519
         },
         {
          "age_category": "age 21 and under",
          "date": "1991-01-01T00:00:00",
          "gross": 5173
         },
         {
          "age_category": "age 22-50",
          "date": "1991-01-01T00:00:00",
          "gross": 27627
         },
         {
          "age_category": "age 51 and above",
          "date": "1991-01-01T00:00:00",
          "gross": 13707
         },
         {
          "age_category": "age 21 and under",
          "date": "1992-01-01T00:00:00",
          "gross": 1635
         },
         {
          "age_category": "age 22-50",
          "date": "1992-01-01T00:00:00",
          "gross": 28052
         },
         {
          "age_category": "age 51 and above",
          "date": "1992-01-01T00:00:00",
          "gross": 8018
         },
         {
          "age_category": "unknown",
          "date": "1992-01-01T00:00:00",
          "gross": 1
         },
         {
          "age_category": "age 21 and under",
          "date": "1993-01-01T00:00:00",
          "gross": 3784
         },
         {
          "age_category": "age 22-50",
          "date": "1993-01-01T00:00:00",
          "gross": 34055
         },
         {
          "age_category": "age 51 and above",
          "date": "1993-01-01T00:00:00",
          "gross": 9556
         },
         {
          "age_category": "unknown",
          "date": "1993-01-01T00:00:00",
          "gross": 84
         },
         {
          "age_category": "age 21 and under",
          "date": "1994-01-01T00:00:00",
          "gross": 1827
         },
         {
          "age_category": "age 22-50",
          "date": "1994-01-01T00:00:00",
          "gross": 36325
         },
         {
          "age_category": "age 51 and above",
          "date": "1994-01-01T00:00:00",
          "gross": 7447
         },
         {
          "age_category": "age 21 and under",
          "date": "1995-01-01T00:00:00",
          "gross": 2521
         },
         {
          "age_category": "age 22-50",
          "date": "1995-01-01T00:00:00",
          "gross": 27567
         },
         {
          "age_category": "age 51 and above",
          "date": "1995-01-01T00:00:00",
          "gross": 8883
         },
         {
          "age_category": "unknown",
          "date": "1995-01-01T00:00:00",
          "gross": 200
         },
         {
          "age_category": "age 21 and under",
          "date": "1996-01-01T00:00:00",
          "gross": 1815
         },
         {
          "age_category": "age 22-50",
          "date": "1996-01-01T00:00:00",
          "gross": 42041
         },
         {
          "age_category": "age 51 and above",
          "date": "1996-01-01T00:00:00",
          "gross": 9541
         },
         {
          "age_category": "unknown",
          "date": "1996-01-01T00:00:00",
          "gross": 237
         },
         {
          "age_category": "age 21 and under",
          "date": "1997-01-01T00:00:00",
          "gross": 3018
         },
         {
          "age_category": "age 22-50",
          "date": "1997-01-01T00:00:00",
          "gross": 57140
         },
         {
          "age_category": "age 51 and above",
          "date": "1997-01-01T00:00:00",
          "gross": 22140
         },
         {
          "age_category": "age 21 and under",
          "date": "1998-01-01T00:00:00",
          "gross": 3497
         },
         {
          "age_category": "age 22-50",
          "date": "1998-01-01T00:00:00",
          "gross": 44308
         },
         {
          "age_category": "age 51 and above",
          "date": "1998-01-01T00:00:00",
          "gross": 13786
         },
         {
          "age_category": "age 21 and under",
          "date": "1999-01-01T00:00:00",
          "gross": 8493
         },
         {
          "age_category": "age 22-50",
          "date": "1999-01-01T00:00:00",
          "gross": 54578
         },
         {
          "age_category": "age 51 and above",
          "date": "1999-01-01T00:00:00",
          "gross": 19534
         },
         {
          "age_category": "unknown",
          "date": "1999-01-01T00:00:00",
          "gross": 95
         },
         {
          "age_category": "age 21 and under",
          "date": "2000-01-01T00:00:00",
          "gross": 2040
         },
         {
          "age_category": "age 22-50",
          "date": "2000-01-01T00:00:00",
          "gross": 34644
         },
         {
          "age_category": "age 51 and above",
          "date": "2000-01-01T00:00:00",
          "gross": 10894
         },
         {
          "age_category": "unknown",
          "date": "2000-01-01T00:00:00",
          "gross": 48
         },
         {
          "age_category": "age 21 and under",
          "date": "2001-01-01T00:00:00",
          "gross": 5918
         },
         {
          "age_category": "age 22-50",
          "date": "2001-01-01T00:00:00",
          "gross": 41433
         },
         {
          "age_category": "age 51 and above",
          "date": "2001-01-01T00:00:00",
          "gross": 16079
         },
         {
          "age_category": "unknown",
          "date": "2001-01-01T00:00:00",
          "gross": 46
         },
         {
          "age_category": "age 21 and under",
          "date": "2002-01-01T00:00:00",
          "gross": 6874
         },
         {
          "age_category": "age 22-50",
          "date": "2002-01-01T00:00:00",
          "gross": 35697
         },
         {
          "age_category": "age 51 and above",
          "date": "2002-01-01T00:00:00",
          "gross": 15300
         },
         {
          "age_category": "age 21 and under",
          "date": "2003-01-01T00:00:00",
          "gross": 5186
         },
         {
          "age_category": "age 22-50",
          "date": "2003-01-01T00:00:00",
          "gross": 37801
         },
         {
          "age_category": "age 51 and above",
          "date": "2003-01-01T00:00:00",
          "gross": 14401
         },
         {
          "age_category": "age 21 and under",
          "date": "2004-01-01T00:00:00",
          "gross": 4573
         },
         {
          "age_category": "age 22-50",
          "date": "2004-01-01T00:00:00",
          "gross": 37677
         },
         {
          "age_category": "age 51 and above",
          "date": "2004-01-01T00:00:00",
          "gross": 13534
         },
         {
          "age_category": "age 21 and under",
          "date": "2005-01-01T00:00:00",
          "gross": 6868
         },
         {
          "age_category": "age 22-50",
          "date": "2005-01-01T00:00:00",
          "gross": 35839
         },
         {
          "age_category": "age 51 and above",
          "date": "2005-01-01T00:00:00",
          "gross": 12374
         },
         {
          "age_category": "age 21 and under",
          "date": "2006-01-01T00:00:00",
          "gross": 1993
         },
         {
          "age_category": "age 22-50",
          "date": "2006-01-01T00:00:00",
          "gross": 24013
         },
         {
          "age_category": "age 51 and above",
          "date": "2006-01-01T00:00:00",
          "gross": 8311
         },
         {
          "age_category": "unknown",
          "date": "2006-01-01T00:00:00",
          "gross": 175
         },
         {
          "age_category": "age 21 and under",
          "date": "2007-01-01T00:00:00",
          "gross": 2821
         },
         {
          "age_category": "age 22-50",
          "date": "2007-01-01T00:00:00",
          "gross": 31255
         },
         {
          "age_category": "age 51 and above",
          "date": "2007-01-01T00:00:00",
          "gross": 13933
         },
         {
          "age_category": "unknown",
          "date": "2007-01-01T00:00:00",
          "gross": 23
         },
         {
          "age_category": "age 21 and under",
          "date": "2008-01-01T00:00:00",
          "gross": 4082
         },
         {
          "age_category": "age 22-50",
          "date": "2008-01-01T00:00:00",
          "gross": 41474
         },
         {
          "age_category": "age 51 and above",
          "date": "2008-01-01T00:00:00",
          "gross": 14813
         },
         {
          "age_category": "age 21 and under",
          "date": "2009-01-01T00:00:00",
          "gross": 6337
         },
         {
          "age_category": "age 22-50",
          "date": "2009-01-01T00:00:00",
          "gross": 49277
         },
         {
          "age_category": "age 51 and above",
          "date": "2009-01-01T00:00:00",
          "gross": 18272
         },
         {
          "age_category": "unknown",
          "date": "2009-01-01T00:00:00",
          "gross": 15
         },
         {
          "age_category": "age 21 and under",
          "date": "2010-01-01T00:00:00",
          "gross": 3758
         },
         {
          "age_category": "age 22-50",
          "date": "2010-01-01T00:00:00",
          "gross": 32790
         },
         {
          "age_category": "age 51 and above",
          "date": "2010-01-01T00:00:00",
          "gross": 16995
         },
         {
          "age_category": "age 21 and under",
          "date": "2011-01-01T00:00:00",
          "gross": 2192
         },
         {
          "age_category": "age 22-50",
          "date": "2011-01-01T00:00:00",
          "gross": 31287
         },
         {
          "age_category": "age 51 and above",
          "date": "2011-01-01T00:00:00",
          "gross": 11233
         },
         {
          "age_category": "age 21 and under",
          "date": "2012-01-01T00:00:00",
          "gross": 3024
         },
         {
          "age_category": "age 22-50",
          "date": "2012-01-01T00:00:00",
          "gross": 38412
         },
         {
          "age_category": "age 51 and above",
          "date": "2012-01-01T00:00:00",
          "gross": 18138
         },
         {
          "age_category": "age 21 and under",
          "date": "2013-01-01T00:00:00",
          "gross": 955
         },
         {
          "age_category": "age 22-50",
          "date": "2013-01-01T00:00:00",
          "gross": 28182
         },
         {
          "age_category": "age 51 and above",
          "date": "2013-01-01T00:00:00",
          "gross": 9615
         },
         {
          "age_category": "unknown",
          "date": "2013-01-01T00:00:00",
          "gross": 125
         },
         {
          "age_category": "age 21 and under",
          "date": "2014-01-01T00:00:00",
          "gross": 1401
         },
         {
          "age_category": "age 22-50",
          "date": "2014-01-01T00:00:00",
          "gross": 25655
         },
         {
          "age_category": "age 51 and above",
          "date": "2014-01-01T00:00:00",
          "gross": 8637
         },
         {
          "age_category": "age 21 and under",
          "date": "2015-01-01T00:00:00",
          "gross": 199
         },
         {
          "age_category": "age 22-50",
          "date": "2015-01-01T00:00:00",
          "gross": 17456
         },
         {
          "age_category": "age 51 and above",
          "date": "2015-01-01T00:00:00",
          "gross": 10475
         }
        ]
       },
       "encoding": {
        "color": {
         "field": "age_category",
         "type": "nominal"
        },
        "tooltip": [
         {
          "field": "date",
          "type": "temporal"
         },
         {
          "field": "gross",
          "type": "quantitative"
         },
         {
          "field": "age_category",
          "type": "nominal"
         }
        ],
        "x": {
         "field": "date",
         "type": "temporal"
        },
        "y": {
         "field": "gross",
         "type": "quantitative"
        }
       },
       "mark": {
        "type": "line"
       },
       "params": [
        {
         "bind": "scales",
         "name": "param_31",
         "select": {
          "encodings": [
           "x",
           "y"
          ],
          "type": "interval"
         }
        }
       ],
       "title": "Gross Over Time Colored By Age Category"
      },
      "text/plain": [
       "<VegaLite 5 object>\n",
       "\n",
       "If you see this message, it means the renderer has not been properly enabled\n",
       "for the frontend that you are using. For more information, see\n",
       "https://altair-viz.github.io/user_guide/display_frontends.html#troubleshooting\n"
      ]
     },
     "execution_count": 285,
     "metadata": {},
     "output_type": "execute_result"
    }
   ],
   "source": [
    "alt.Chart(gag).mark_line().encode(\n",
    "    x='date:T',\n",
    "    y='gross',\n",
    "    color='age_category',\n",
    "    tooltip=['date', 'gross','age_category']\n",
    ").interactive().properties(\n",
    "    title='Gross Over Time Colored By Age Category'\n",
    ")"
   ]
  },
  {
   "cell_type": "markdown",
   "metadata": {},
   "source": [
    "## Analysis\n",
    "\n",
    "- 1a. as we can see from our first graph there is no noticeable trends between the number of dialogue and time. this contradicts our findinng from our gender dialogue grpah we did in class\n",
    "\n",
    "- 1b. there is a small trend betweeen number of words and gross (word counts does not really matter in terms of affecting gross) there are only some noticable high outlier movies that has a significantly high gross\n",
    "\n",
    "- 2a ?????????????????? need ask proffesor or lucian\n",
    "- 2b. we can see from our graph that age 22-50 has the highest trend over time, 51 and above in the second place and age 21 and under has the lowest trend for both gross and words"
   ]
  }
 ],
 "metadata": {
  "kernelspec": {
   "display_name": ".venv",
   "language": "python",
   "name": "python3"
  },
  "language_info": {
   "codemirror_mode": {
    "name": "ipython",
    "version": 3
   },
   "file_extension": ".py",
   "mimetype": "text/x-python",
   "name": "python",
   "nbconvert_exporter": "python",
   "pygments_lexer": "ipython3",
   "version": "3.11.8"
  }
 },
 "nbformat": 4,
 "nbformat_minor": 2
}
